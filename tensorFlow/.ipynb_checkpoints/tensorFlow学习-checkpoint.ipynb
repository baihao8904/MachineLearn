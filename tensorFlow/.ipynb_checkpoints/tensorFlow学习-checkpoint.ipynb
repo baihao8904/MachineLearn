{
 "cells": [
  {
   "cell_type": "markdown",
   "metadata": {},
   "source": [
    "# tensorFlow的结构\n",
    "    1，建立神经网络结构\n",
    "    2，将数据放在结构中\n",
    "    3，由框架自动处理\n",
    "    4，在gradients中处理数据\n",
    "    5，完善后的数据在下一次的tensorFlow中进行处理，进行神经网络的改善和进步"
   ]
  },
  {
   "cell_type": "markdown",
   "metadata": {},
   "source": [
    "### 输出训练之后的参数\n",
    "    每20次输出1次"
   ]
  },
  {
   "cell_type": "code",
   "execution_count": 2,
   "metadata": {
    "collapsed": true
   },
   "outputs": [],
   "source": [
    "import tensorflow as tf"
   ]
  },
  {
   "cell_type": "code",
   "execution_count": 3,
   "metadata": {
    "collapsed": true
   },
   "outputs": [],
   "source": [
    "import numpy as np"
   ]
  },
  {
   "cell_type": "code",
   "execution_count": 4,
   "metadata": {
    "collapsed": true
   },
   "outputs": [],
   "source": [
    "import matplotlib.pyplot as plt"
   ]
  },
  {
   "cell_type": "code",
   "execution_count": 4,
   "metadata": {
    "collapsed": true
   },
   "outputs": [
    {
     "data": {
      "text/plain": [
       "(array([ 0.19579343,  0.72436875,  0.69387138,  0.40486738,  0.55837297,\n",
       "         0.73910618,  0.44471589,  0.60821116,  0.14485595,  0.23394473,\n",
       "         0.29154092,  0.16761634,  0.44784054,  0.39063498,  0.18220773,\n",
       "         0.6783905 ,  0.19799906,  0.51648104,  0.5148682 ,  0.0263503 ,\n",
       "         0.03464781,  0.30286795,  0.49829039,  0.63709968,  0.19121809,\n",
       "         0.11474763,  0.78562182,  0.11447117,  0.94364995,  0.9910937 ,\n",
       "         0.50445145,  0.46738717,  0.9630819 ,  0.51851553,  0.61054629,\n",
       "         0.02225417,  0.87651283,  0.55983788,  0.13050681,  0.1998335 ,\n",
       "         0.63900119,  0.4963212 ,  0.42797071,  0.38989627,  0.68395495,\n",
       "         0.37652811,  0.33342493,  0.73347157,  0.29255325,  0.8171652 ,\n",
       "         0.63194859,  0.7547819 ,  0.01285425,  0.81450605,  0.29437464,\n",
       "         0.09817176,  0.00213785,  0.62281603,  0.86047482,  0.63737226,\n",
       "         0.65687203,  0.89818305,  0.44890195,  0.57642752,  0.77428436,\n",
       "         0.04045498,  0.34134009,  0.33068821,  0.98556721,  0.32661596,\n",
       "         0.48125562,  0.07630356,  0.19317548,  0.62663752,  0.09218399,\n",
       "         0.98900318,  0.46893159,  0.44099584,  0.5621177 ,  0.05611975,\n",
       "         0.93005127,  0.66015267,  0.38886857,  0.99405086,  0.24073307,\n",
       "         0.21246611,  0.52821994,  0.20580593,  0.69145346,  0.81987429,\n",
       "         0.75016832,  0.47330871,  0.18290003,  0.87070739,  0.12739249,\n",
       "         0.22077012,  0.95427328,  0.80214059,  0.48616105,  0.38354182], dtype=float32),\n",
       " array([ 0.31957936,  0.37243688,  0.36938715,  0.34048676,  0.35583732,\n",
       "         0.37391064,  0.3444716 ,  0.36082113,  0.31448561,  0.32339448,\n",
       "         0.3291541 ,  0.31676164,  0.34478408,  0.33906353,  0.31822079,\n",
       "         0.36783907,  0.31979993,  0.35164812,  0.35148683,  0.30263504,\n",
       "         0.3034648 ,  0.3302868 ,  0.34982905,  0.36370999,  0.31912181,\n",
       "         0.31147477,  0.37856221,  0.31144714,  0.39436501,  0.39910939,\n",
       "         0.35044515,  0.34673873,  0.39630821,  0.35185155,  0.36105463,\n",
       "         0.30222544,  0.38765129,  0.35598379,  0.31305069,  0.31998336,\n",
       "         0.36390013,  0.34963214,  0.34279707,  0.33898965,  0.36839551,\n",
       "         0.33765283,  0.33334249,  0.37334716,  0.32925534,  0.38171655,\n",
       "         0.36319488,  0.37547821,  0.30128545,  0.38145062,  0.32943746,\n",
       "         0.30981719,  0.30021378,  0.36228162,  0.38604748,  0.36373723,\n",
       "         0.36568722,  0.38981831,  0.34489021,  0.35764277,  0.37742844,\n",
       "         0.3040455 ,  0.33413401,  0.33306885,  0.39855674,  0.3326616 ,\n",
       "         0.34812558,  0.30763036,  0.31931755,  0.36266378,  0.30921841,\n",
       "         0.39890033,  0.34689316,  0.34409958,  0.35621178,  0.305612  ,\n",
       "         0.39300513,  0.36601529,  0.33888686,  0.39940509,  0.32407331,\n",
       "         0.32124662,  0.35282201,  0.3205806 ,  0.36914536,  0.38198745,\n",
       "         0.37501684,  0.34733087,  0.31829002,  0.38707075,  0.31273925,\n",
       "         0.32207704,  0.39542735,  0.38021407,  0.34861612,  0.3383542 ], dtype=float32))"
      ]
     },
     "execution_count": 4,
     "metadata": {},
     "output_type": "execute_result"
    }
   ],
   "source": [
    "#创造数据\n",
    "x_data = np.random.rand(100).astype(np.float32)\n",
    "y_data = x_data*0.1+0.3\n",
    "x_data,y_data"
   ]
  },
  {
   "cell_type": "code",
   "execution_count": 9,
   "metadata": {
    "collapsed": true
   },
   "outputs": [
    {
     "name": "stdout",
     "output_type": "stream",
     "text": [
      "WARNING:tensorflow:From <ipython-input-9-f1ead4dff194>:13 in <module>.: initialize_all_variables (from tensorflow.python.ops.variables) is deprecated and will be removed after 2017-03-02.\n",
      "Instructions for updating:\n",
      "Use `tf.global_variables_initializer` instead.\n"
     ]
    }
   ],
   "source": [
    "#开始创建tensorflow结构\n",
    "#可能weights是一个二维矩阵 从初始置提升至目标值\n",
    "Weights = tf.Variable(tf.random_uniform([1],-1.0,1.0))\n",
    "biases = tf.Variable(tf.zeros([1]))\n",
    "\n",
    "y = Weights*x_data+biases\n",
    "#计算差值\n",
    "loss = tf.reduce_mean(tf.square(y-y_data))\n",
    "#减少误差 提升准确度 梯度下降法 参数是学习率\n",
    "optimizer = tf.train.GradientDescentOptimizer(0.5)\n",
    "train = optimizer.minimize(loss)\n",
    "#初始化变量\n",
    "init = tf.initialize_all_variables()\n"
   ]
  },
  {
   "cell_type": "code",
   "execution_count": 10,
   "metadata": {
    "collapsed": false
   },
   "outputs": [
    {
     "name": "stdout",
     "output_type": "stream",
     "text": [
      "Tensor(\"Variable_4/read:0\", shape=(1,), dtype=float32) Tensor(\"Variable_5/read:0\", shape=(1,), dtype=float32)\n"
     ]
    }
   ],
   "source": [
    "print(Weights,biases)"
   ]
  },
  {
   "cell_type": "code",
   "execution_count": 11,
   "metadata": {
    "collapsed": false
   },
   "outputs": [
    {
     "name": "stdout",
     "output_type": "stream",
     "text": [
      "0 [ 0.00855541] [ 0.46206868]\n",
      "20 [ 0.06192054] [ 0.31942877]\n",
      "40 [ 0.08950511] [ 0.30535468]\n",
      "60 [ 0.09710757] [ 0.30147579]\n",
      "80 [ 0.09920283] [ 0.30040672]\n",
      "100 [ 0.09978029] [ 0.3001121]\n",
      "120 [ 0.09993944] [ 0.30003092]\n",
      "140 [ 0.09998333] [ 0.30000851]\n",
      "160 [ 0.0999954] [ 0.30000237]\n",
      "180 [ 0.09999873] [ 0.30000067]\n",
      "200 [ 0.09999964] [ 0.30000019]\n"
     ]
    }
   ],
   "source": [
    "#神经网络的一次回话 init初始化的内容被激活 整个网络也就被激活了\n",
    "session = tf.Session()\n",
    "session.run(init)\n",
    "\n",
    "for step in range(201):\n",
    "    session.run(train)\n",
    "    if step%20 == 0:\n",
    "        print(step,session.run(Weights),session.run(biases))"
   ]
  },
  {
   "cell_type": "markdown",
   "metadata": {},
   "source": [
    "## 会话控制"
   ]
  },
  {
   "cell_type": "code",
   "execution_count": 12,
   "metadata": {
    "collapsed": true
   },
   "outputs": [],
   "source": [
    "#一行两列的例子\n",
    "matrix1 = tf.constant([[3,3]])\n",
    "matrix2 = tf.constant([[2],[2]])"
   ]
  },
  {
   "cell_type": "code",
   "execution_count": 13,
   "metadata": {
    "collapsed": true
   },
   "outputs": [],
   "source": [
    "#矩阵乘法 np.dot(m1,m2)\n",
    "product = tf.matmul(matrix1,matrix2)"
   ]
  },
  {
   "cell_type": "code",
   "execution_count": 15,
   "metadata": {
    "collapsed": false
   },
   "outputs": [
    {
     "name": "stdout",
     "output_type": "stream",
     "text": [
      "[[12]]\n"
     ]
    }
   ],
   "source": [
    "#方法1 每run一次 执行一次结构\n",
    "sess2 = tf.Session()\n",
    "result = sess2.run(product)\n",
    "print(result)\n",
    "sess2.close()"
   ]
  },
  {
   "cell_type": "code",
   "execution_count": 16,
   "metadata": {
    "collapsed": false
   },
   "outputs": [
    {
     "name": "stdout",
     "output_type": "stream",
     "text": [
      "[[12]]\n"
     ]
    }
   ],
   "source": [
    "#方法2 自动关闭 与文件类似\n",
    "with tf.Session() as sess2:\n",
    "    result2 = sess2.run(product)\n",
    "    print(result2)"
   ]
  },
  {
   "cell_type": "markdown",
   "metadata": {},
   "source": [
    "## Variable 变量的学习"
   ]
  },
  {
   "cell_type": "code",
   "execution_count": 18,
   "metadata": {
    "collapsed": false
   },
   "outputs": [],
   "source": [
    "#使用tf.Variable\n",
    "state = tf.Variable(0,name='counter')"
   ]
  },
  {
   "cell_type": "code",
   "execution_count": 19,
   "metadata": {
    "collapsed": false
   },
   "outputs": [
    {
     "data": {
      "text/plain": [
       "'counter:0'"
      ]
     },
     "execution_count": 19,
     "metadata": {},
     "output_type": "execute_result"
    }
   ],
   "source": [
    "state.name"
   ]
  },
  {
   "cell_type": "code",
   "execution_count": 23,
   "metadata": {
    "collapsed": false
   },
   "outputs": [],
   "source": [
    "#常量\n",
    "one = tf.constant(1)\n",
    "new_value = tf.add(state,one)\n",
    "update = tf.assign(state,new_value)"
   ]
  },
  {
   "cell_type": "code",
   "execution_count": 24,
   "metadata": {
    "collapsed": false
   },
   "outputs": [
    {
     "name": "stdout",
     "output_type": "stream",
     "text": [
      "WARNING:tensorflow:From <ipython-input-24-0680f16066d6>:2 in <module>.: initialize_all_variables (from tensorflow.python.ops.variables) is deprecated and will be removed after 2017-03-02.\n",
      "Instructions for updating:\n",
      "Use `tf.global_variables_initializer` instead.\n",
      "1\n",
      "2\n",
      "3\n"
     ]
    }
   ],
   "source": [
    "#初始化所有变量\n",
    "init = tf.initialize_all_variables()\n",
    "with tf.Session() as sess3:\n",
    "    sess3.run(init)\n",
    "    for _item in range(3):\n",
    "        sess3.run(update)\n",
    "        print(sess3.run(state))"
   ]
  },
  {
   "cell_type": "markdown",
   "metadata": {},
   "source": [
    "## placeHolder 传入值学习"
   ]
  },
  {
   "cell_type": "code",
   "execution_count": 26,
   "metadata": {
    "collapsed": true
   },
   "outputs": [],
   "source": [
    "#默认数据为float32形式 可以给定结构\n",
    "#input2 = tf.placeholder(tf.float32,[2,2])\n",
    "input1 = tf.placeholder(tf.float32)\n",
    "input2 = tf.placeholder(tf.float32)\n",
    "\n",
    "output = tf.mul(input1,input2)"
   ]
  },
  {
   "cell_type": "code",
   "execution_count": 28,
   "metadata": {
    "collapsed": false
   },
   "outputs": [
    {
     "name": "stdout",
     "output_type": "stream",
     "text": [
      "[ 14.]\n"
     ]
    }
   ],
   "source": [
    "with tf.Session() as sess4:\n",
    "    print(sess4.run(output,feed_dict={input1:[7.],input2:[2.]}))"
   ]
  },
  {
   "cell_type": "markdown",
   "metadata": {},
   "source": [
    "在运行并使用结果时再使用值。则使用placeholder在使用时再进行赋值"
   ]
  },
  {
   "cell_type": "markdown",
   "metadata": {},
   "source": [
    "# 激励函数"
   ]
  },
  {
   "cell_type": "markdown",
   "metadata": {},
   "source": [
    "### 为什么需要激励函数？\n",
    "    解决不能用线性方程所解决的问题。\n",
    "    激励函数代表：sigmod 当神经网络低层时可随意使用激励函数。高层时需注意。\n",
    "    将激活效应传递给下一层\n",
    "    "
   ]
  },
  {
   "cell_type": "markdown",
   "metadata": {},
   "source": [
    "#### 在tensorFlow中\n",
    "    每一隐藏层加工完后将将要输出的值经过激励函数 再传递给下一层"
   ]
  },
  {
   "cell_type": "markdown",
   "metadata": {},
   "source": [
    "## 添加神经网络层数"
   ]
  },
  {
   "cell_type": "code",
   "execution_count": 5,
   "metadata": {
    "collapsed": true
   },
   "outputs": [],
   "source": [
    "#注意添加偏置 如果没有偏置的化会导致 误差无法缩小\n",
    "def add_layer(inputs,in_size,out_size,activation_function=None):\n",
    "    Weights = tf.Variable(tf.random_normal([in_size,out_size]))\n",
    "    biases = tf.Variable(tf.zeros([1,out_size])+0.1)\n",
    "    Wx_plus_b = tf.matmul(inputs,Weights)+biases\n",
    "    if activation_function is None:\n",
    "        outputs = Wx_plus_b\n",
    "    else:\n",
    "        outputs = activation_function(Wx_plus_b)\n",
    "    return outputs"
   ]
  },
  {
   "cell_type": "markdown",
   "metadata": {},
   "source": [
    "## 建造神经网络"
   ]
  },
  {
   "cell_type": "code",
   "execution_count": 6,
   "metadata": {
    "collapsed": true
   },
   "outputs": [],
   "source": [
    "#-1,1区间有300个单位\n",
    "x_data2 = np.linspace(-1,1,300)[:,np.newaxis]\n",
    "#前两个参数为均值和方差\n",
    "noise = np.random.normal(0,0.05,x_data2.shape)\n",
    "y_data2 = np.square(x_data2)-0.5+noise"
   ]
  },
  {
   "cell_type": "code",
   "execution_count": 7,
   "metadata": {
    "collapsed": true
   },
   "outputs": [
    {
     "data": {
      "text/plain": [
       "array([[-1.        ],\n",
       "       [-0.99331104],\n",
       "       [-0.98662207],\n",
       "       [-0.97993311],\n",
       "       [-0.97324415],\n",
       "       [-0.96655518],\n",
       "       [-0.95986622],\n",
       "       [-0.95317726],\n",
       "       [-0.94648829],\n",
       "       [-0.93979933],\n",
       "       [-0.93311037],\n",
       "       [-0.9264214 ],\n",
       "       [-0.91973244],\n",
       "       [-0.91304348],\n",
       "       [-0.90635452],\n",
       "       [-0.89966555],\n",
       "       [-0.89297659],\n",
       "       [-0.88628763],\n",
       "       [-0.87959866],\n",
       "       [-0.8729097 ],\n",
       "       [-0.86622074],\n",
       "       [-0.85953177],\n",
       "       [-0.85284281],\n",
       "       [-0.84615385],\n",
       "       [-0.83946488],\n",
       "       [-0.83277592],\n",
       "       [-0.82608696],\n",
       "       [-0.81939799],\n",
       "       [-0.81270903],\n",
       "       [-0.80602007],\n",
       "       [-0.7993311 ],\n",
       "       [-0.79264214],\n",
       "       [-0.78595318],\n",
       "       [-0.77926421],\n",
       "       [-0.77257525],\n",
       "       [-0.76588629],\n",
       "       [-0.75919732],\n",
       "       [-0.75250836],\n",
       "       [-0.7458194 ],\n",
       "       [-0.73913043],\n",
       "       [-0.73244147],\n",
       "       [-0.72575251],\n",
       "       [-0.71906355],\n",
       "       [-0.71237458],\n",
       "       [-0.70568562],\n",
       "       [-0.69899666],\n",
       "       [-0.69230769],\n",
       "       [-0.68561873],\n",
       "       [-0.67892977],\n",
       "       [-0.6722408 ],\n",
       "       [-0.66555184],\n",
       "       [-0.65886288],\n",
       "       [-0.65217391],\n",
       "       [-0.64548495],\n",
       "       [-0.63879599],\n",
       "       [-0.63210702],\n",
       "       [-0.62541806],\n",
       "       [-0.6187291 ],\n",
       "       [-0.61204013],\n",
       "       [-0.60535117],\n",
       "       [-0.59866221],\n",
       "       [-0.59197324],\n",
       "       [-0.58528428],\n",
       "       [-0.57859532],\n",
       "       [-0.57190635],\n",
       "       [-0.56521739],\n",
       "       [-0.55852843],\n",
       "       [-0.55183946],\n",
       "       [-0.5451505 ],\n",
       "       [-0.53846154],\n",
       "       [-0.53177258],\n",
       "       [-0.52508361],\n",
       "       [-0.51839465],\n",
       "       [-0.51170569],\n",
       "       [-0.50501672],\n",
       "       [-0.49832776],\n",
       "       [-0.4916388 ],\n",
       "       [-0.48494983],\n",
       "       [-0.47826087],\n",
       "       [-0.47157191],\n",
       "       [-0.46488294],\n",
       "       [-0.45819398],\n",
       "       [-0.45150502],\n",
       "       [-0.44481605],\n",
       "       [-0.43812709],\n",
       "       [-0.43143813],\n",
       "       [-0.42474916],\n",
       "       [-0.4180602 ],\n",
       "       [-0.41137124],\n",
       "       [-0.40468227],\n",
       "       [-0.39799331],\n",
       "       [-0.39130435],\n",
       "       [-0.38461538],\n",
       "       [-0.37792642],\n",
       "       [-0.37123746],\n",
       "       [-0.36454849],\n",
       "       [-0.35785953],\n",
       "       [-0.35117057],\n",
       "       [-0.34448161],\n",
       "       [-0.33779264],\n",
       "       [-0.33110368],\n",
       "       [-0.32441472],\n",
       "       [-0.31772575],\n",
       "       [-0.31103679],\n",
       "       [-0.30434783],\n",
       "       [-0.29765886],\n",
       "       [-0.2909699 ],\n",
       "       [-0.28428094],\n",
       "       [-0.27759197],\n",
       "       [-0.27090301],\n",
       "       [-0.26421405],\n",
       "       [-0.25752508],\n",
       "       [-0.25083612],\n",
       "       [-0.24414716],\n",
       "       [-0.23745819],\n",
       "       [-0.23076923],\n",
       "       [-0.22408027],\n",
       "       [-0.2173913 ],\n",
       "       [-0.21070234],\n",
       "       [-0.20401338],\n",
       "       [-0.19732441],\n",
       "       [-0.19063545],\n",
       "       [-0.18394649],\n",
       "       [-0.17725753],\n",
       "       [-0.17056856],\n",
       "       [-0.1638796 ],\n",
       "       [-0.15719064],\n",
       "       [-0.15050167],\n",
       "       [-0.14381271],\n",
       "       [-0.13712375],\n",
       "       [-0.13043478],\n",
       "       [-0.12374582],\n",
       "       [-0.11705686],\n",
       "       [-0.11036789],\n",
       "       [-0.10367893],\n",
       "       [-0.09698997],\n",
       "       [-0.090301  ],\n",
       "       [-0.08361204],\n",
       "       [-0.07692308],\n",
       "       [-0.07023411],\n",
       "       [-0.06354515],\n",
       "       [-0.05685619],\n",
       "       [-0.05016722],\n",
       "       [-0.04347826],\n",
       "       [-0.0367893 ],\n",
       "       [-0.03010033],\n",
       "       [-0.02341137],\n",
       "       [-0.01672241],\n",
       "       [-0.01003344],\n",
       "       [-0.00334448],\n",
       "       [ 0.00334448],\n",
       "       [ 0.01003344],\n",
       "       [ 0.01672241],\n",
       "       [ 0.02341137],\n",
       "       [ 0.03010033],\n",
       "       [ 0.0367893 ],\n",
       "       [ 0.04347826],\n",
       "       [ 0.05016722],\n",
       "       [ 0.05685619],\n",
       "       [ 0.06354515],\n",
       "       [ 0.07023411],\n",
       "       [ 0.07692308],\n",
       "       [ 0.08361204],\n",
       "       [ 0.090301  ],\n",
       "       [ 0.09698997],\n",
       "       [ 0.10367893],\n",
       "       [ 0.11036789],\n",
       "       [ 0.11705686],\n",
       "       [ 0.12374582],\n",
       "       [ 0.13043478],\n",
       "       [ 0.13712375],\n",
       "       [ 0.14381271],\n",
       "       [ 0.15050167],\n",
       "       [ 0.15719064],\n",
       "       [ 0.1638796 ],\n",
       "       [ 0.17056856],\n",
       "       [ 0.17725753],\n",
       "       [ 0.18394649],\n",
       "       [ 0.19063545],\n",
       "       [ 0.19732441],\n",
       "       [ 0.20401338],\n",
       "       [ 0.21070234],\n",
       "       [ 0.2173913 ],\n",
       "       [ 0.22408027],\n",
       "       [ 0.23076923],\n",
       "       [ 0.23745819],\n",
       "       [ 0.24414716],\n",
       "       [ 0.25083612],\n",
       "       [ 0.25752508],\n",
       "       [ 0.26421405],\n",
       "       [ 0.27090301],\n",
       "       [ 0.27759197],\n",
       "       [ 0.28428094],\n",
       "       [ 0.2909699 ],\n",
       "       [ 0.29765886],\n",
       "       [ 0.30434783],\n",
       "       [ 0.31103679],\n",
       "       [ 0.31772575],\n",
       "       [ 0.32441472],\n",
       "       [ 0.33110368],\n",
       "       [ 0.33779264],\n",
       "       [ 0.34448161],\n",
       "       [ 0.35117057],\n",
       "       [ 0.35785953],\n",
       "       [ 0.36454849],\n",
       "       [ 0.37123746],\n",
       "       [ 0.37792642],\n",
       "       [ 0.38461538],\n",
       "       [ 0.39130435],\n",
       "       [ 0.39799331],\n",
       "       [ 0.40468227],\n",
       "       [ 0.41137124],\n",
       "       [ 0.4180602 ],\n",
       "       [ 0.42474916],\n",
       "       [ 0.43143813],\n",
       "       [ 0.43812709],\n",
       "       [ 0.44481605],\n",
       "       [ 0.45150502],\n",
       "       [ 0.45819398],\n",
       "       [ 0.46488294],\n",
       "       [ 0.47157191],\n",
       "       [ 0.47826087],\n",
       "       [ 0.48494983],\n",
       "       [ 0.4916388 ],\n",
       "       [ 0.49832776],\n",
       "       [ 0.50501672],\n",
       "       [ 0.51170569],\n",
       "       [ 0.51839465],\n",
       "       [ 0.52508361],\n",
       "       [ 0.53177258],\n",
       "       [ 0.53846154],\n",
       "       [ 0.5451505 ],\n",
       "       [ 0.55183946],\n",
       "       [ 0.55852843],\n",
       "       [ 0.56521739],\n",
       "       [ 0.57190635],\n",
       "       [ 0.57859532],\n",
       "       [ 0.58528428],\n",
       "       [ 0.59197324],\n",
       "       [ 0.59866221],\n",
       "       [ 0.60535117],\n",
       "       [ 0.61204013],\n",
       "       [ 0.6187291 ],\n",
       "       [ 0.62541806],\n",
       "       [ 0.63210702],\n",
       "       [ 0.63879599],\n",
       "       [ 0.64548495],\n",
       "       [ 0.65217391],\n",
       "       [ 0.65886288],\n",
       "       [ 0.66555184],\n",
       "       [ 0.6722408 ],\n",
       "       [ 0.67892977],\n",
       "       [ 0.68561873],\n",
       "       [ 0.69230769],\n",
       "       [ 0.69899666],\n",
       "       [ 0.70568562],\n",
       "       [ 0.71237458],\n",
       "       [ 0.71906355],\n",
       "       [ 0.72575251],\n",
       "       [ 0.73244147],\n",
       "       [ 0.73913043],\n",
       "       [ 0.7458194 ],\n",
       "       [ 0.75250836],\n",
       "       [ 0.75919732],\n",
       "       [ 0.76588629],\n",
       "       [ 0.77257525],\n",
       "       [ 0.77926421],\n",
       "       [ 0.78595318],\n",
       "       [ 0.79264214],\n",
       "       [ 0.7993311 ],\n",
       "       [ 0.80602007],\n",
       "       [ 0.81270903],\n",
       "       [ 0.81939799],\n",
       "       [ 0.82608696],\n",
       "       [ 0.83277592],\n",
       "       [ 0.83946488],\n",
       "       [ 0.84615385],\n",
       "       [ 0.85284281],\n",
       "       [ 0.85953177],\n",
       "       [ 0.86622074],\n",
       "       [ 0.8729097 ],\n",
       "       [ 0.87959866],\n",
       "       [ 0.88628763],\n",
       "       [ 0.89297659],\n",
       "       [ 0.89966555],\n",
       "       [ 0.90635452],\n",
       "       [ 0.91304348],\n",
       "       [ 0.91973244],\n",
       "       [ 0.9264214 ],\n",
       "       [ 0.93311037],\n",
       "       [ 0.93979933],\n",
       "       [ 0.94648829],\n",
       "       [ 0.95317726],\n",
       "       [ 0.95986622],\n",
       "       [ 0.96655518],\n",
       "       [ 0.97324415],\n",
       "       [ 0.97993311],\n",
       "       [ 0.98662207],\n",
       "       [ 0.99331104],\n",
       "       [ 1.        ]])"
      ]
     },
     "execution_count": 7,
     "metadata": {},
     "output_type": "execute_result"
    }
   ],
   "source": [
    "x_data2"
   ]
  },
  {
   "cell_type": "code",
   "execution_count": 8,
   "metadata": {
    "collapsed": false
   },
   "outputs": [
    {
     "name": "stdout",
     "output_type": "stream",
     "text": [
      "WARNING:tensorflow:From <ipython-input-8-07f7eeedac8f>:11 in <module>.: initialize_all_variables (from tensorflow.python.ops.variables) is deprecated and will be removed after 2017-03-02.\n",
      "Instructions for updating:\n",
      "Use `tf.global_variables_initializer` instead.\n"
     ]
    }
   ],
   "source": [
    "#None表示无论多少个例子都可以\n",
    "xs = tf.placeholder(tf.float32,[None,1]) \n",
    "ys = tf.placeholder(tf.float32,[None,1])\n",
    "\n",
    "\n",
    "l1 = add_layer(xs,1,10,activation_function=tf.nn.relu)\n",
    "predition = add_layer(l1,10,1,activation_function=None)\n",
    "#计算loss 求和之后求平均值\n",
    "loss = tf.reduce_mean(tf.reduce_sum(tf.square(ys-predition),reduction_indices=[1]))\n",
    "train_step = tf.train.GradientDescentOptimizer(0.1).minimize(loss)\n",
    "init = tf.initialize_all_variables()"
   ]
  },
  {
   "cell_type": "code",
   "execution_count": 9,
   "metadata": {
    "collapsed": true
   },
   "outputs": [],
   "source": [
    "sess5 = tf.Session()"
   ]
  },
  {
   "cell_type": "code",
   "execution_count": 10,
   "metadata": {
    "collapsed": true
   },
   "outputs": [],
   "source": [
    "sess5.run(init)"
   ]
  },
  {
   "cell_type": "code",
   "execution_count": 11,
   "metadata": {
    "collapsed": true
   },
   "outputs": [
    {
     "name": "stdout",
     "output_type": "stream",
     "text": [
      "0.192837\n",
      "0.00938713\n",
      "0.00671185\n",
      "0.00534192\n",
      "0.00443926\n",
      "0.00384852\n",
      "0.00348263\n",
      "0.0032337\n",
      "0.00300312\n",
      "0.00283455\n",
      "0.00271477\n",
      "0.00266175\n",
      "0.00262379\n",
      "0.00258944\n",
      "0.0025589\n",
      "0.00253191\n",
      "0.00251335\n",
      "0.00249972\n",
      "0.00248421\n",
      "0.00246224\n"
     ]
    }
   ],
   "source": [
    "for i in range(1000):\n",
    "    sess5.run(train_step,feed_dict={xs:x_data2,ys:y_data2})\n",
    "    if i%50==0:\n",
    "        #print(sess5.run(predition,feed_dict={xs:x_data2,ys:y_data2}))\n",
    "        print(sess5.run(loss,feed_dict={xs:x_data2,ys:y_data2}))\n",
    "       "
   ]
  },
  {
   "cell_type": "code",
   "execution_count": 15,
   "metadata": {
    "collapsed": false
   },
   "outputs": [
    {
     "data": {
      "image/png": "[encoded data removed]",
      "text/plain": [
       "<matplotlib.figure.Figure at 0x22ca8a9da20>"
      ]
     },
     "metadata": {},
     "output_type": "display_data"
    }
   ],
   "source": [
    "#notebook中无法更新 在windows中可以看到更新效果\n",
    "fig = plt.figure()\n",
    "ax = fig.add_subplot(1,1,1)\n",
    "ax.scatter(x_data2,y_data2)\n",
    "plt.ion()\n",
    "for i in range(1000):\n",
    "    sess5.run(train_step,feed_dict={xs:x_data2,ys:y_data2})\n",
    "    if i%100 == 0:\n",
    "        try:\n",
    "            ax.lines.remove(lines[0])\n",
    "        except:\n",
    "            pass\n",
    "        predition_value = sess5.run(predition,feed_dict={xs:x_data2})\n",
    "        lines = ax.plot(x_data2,predition_value,'r-',lw=5)\n",
    "plt.show()\n",
    "plt.pause(2)\n"
   ]
  },
  {
   "cell_type": "code",
   "execution_count": 145,
   "metadata": {
    "collapsed": false
   },
   "outputs": [],
   "source": [
    "def createDataset(path='./dataset.txt'):\n",
    "    dataset = open(path,'r')\n",
    "    datas = []\n",
    "    labels = []\n",
    "    for line in dataset.readlines():\n",
    "        lineData = []\n",
    "        lineData.append(float(line.split(' ')[0]))\n",
    "        lineData.append(float(line.split(' ')[1]))\n",
    "        labels.append([int(line.split(' ')[-1].strip())])\n",
    "        datas.append(lineData)\n",
    "    return datas,labels"
   ]
  },
  {
   "cell_type": "code",
   "execution_count": 146,
   "metadata": {
    "collapsed": true
   },
   "outputs": [],
   "source": [
    "datas,labels = createDataset()"
   ]
  },
  {
   "cell_type": "code",
   "execution_count": 147,
   "metadata": {
    "collapsed": true
   },
   "outputs": [
    {
     "data": {
      "text/plain": [
       "array([[ 1.],\n",
       "       [ 0.],\n",
       "       [ 1.],\n",
       "       [ 0.],\n",
       "       [ 1.],\n",
       "       [ 0.],\n",
       "       [ 1.],\n",
       "       [ 1.],\n",
       "       [ 1.],\n",
       "       [ 1.],\n",
       "       [ 1.],\n",
       "       [ 1.],\n",
       "       [ 1.],\n",
       "       [ 0.],\n",
       "       [ 1.],\n",
       "       [ 1.],\n",
       "       [ 1.],\n",
       "       [ 0.],\n",
       "       [ 0.],\n",
       "       [ 1.],\n",
       "       [ 1.],\n",
       "       [ 1.]], dtype=float32)"
      ]
     },
     "execution_count": 147,
     "metadata": {},
     "output_type": "execute_result"
    }
   ],
   "source": [
    "datas = np.array(datas).astype(np.float32)\n",
    "labels = np.array(labels).astype(np.float32)\n",
    "labels"
   ]
  },
  {
   "cell_type": "code",
   "execution_count": 164,
   "metadata": {
    "collapsed": false
   },
   "outputs": [
    {
     "name": "stdout",
     "output_type": "stream",
     "text": [
      "WARNING:tensorflow:From <ipython-input-164-1d18b2e28fa2>:9 in <module>.: initialize_all_variables (from tensorflow.python.ops.variables) is deprecated and will be removed after 2017-03-02.\n",
      "Instructions for updating:\n",
      "Use `tf.global_variables_initializer` instead.\n"
     ]
    }
   ],
   "source": [
    "xs2 = tf.placeholder(tf.float32,[None,2])\n",
    "ys2 = tf.placeholder(tf.float32,[None,1])\n",
    "\n",
    "layer1 = add_layer(xs2,2,3,activation_function=tf.nn.sigmoid)\n",
    "output = add_layer(layer1,3,1,activation_function=tf.nn.sigmoid)\n",
    "\n",
    "loss = tf.reduce_mean(tf.reduce_sum(tf.square(ys2-output),reduction_indices=[1]))\n",
    "train_step2 = tf.train.GradientDescentOptimizer(0.1).minimize(loss)\n",
    "init = tf.initialize_all_variables()"
   ]
  },
  {
   "cell_type": "code",
   "execution_count": 165,
   "metadata": {
    "collapsed": true
   },
   "outputs": [],
   "source": [
    "sessSelf = tf.Session()\n",
    "sessSelf.run(init)"
   ]
  },
  {
   "cell_type": "code",
   "execution_count": 167,
   "metadata": {
    "collapsed": true
   },
   "outputs": [
    {
     "name": "stdout",
     "output_type": "stream",
     "text": [
      "0.0597105\n",
      "0.0494855\n",
      "0.0477808\n",
      "0.0470041\n",
      "0.0465187\n",
      "0.0461696\n",
      "0.0458987\n",
      "0.0456781\n",
      "0.0454929\n",
      "0.0453338\n",
      "结果： [[  9.76624191e-01]\n",
      " [  9.75079462e-03]\n",
      " [  7.49337971e-01]\n",
      " [  1.69919040e-02]\n",
      " [  9.70479369e-01]\n",
      " [  1.69559389e-01]\n",
      " [  9.76167440e-01]\n",
      " [  9.29805517e-01]\n",
      " [  9.60485458e-01]\n",
      " [  9.36716676e-01]\n",
      " [  9.62624550e-01]\n",
      " [  9.74399924e-01]\n",
      " [  9.66353357e-01]\n",
      " [  9.29034889e-01]\n",
      " [  9.75644588e-01]\n",
      " [  9.58930731e-01]\n",
      " [  9.44359839e-01]\n",
      " [  5.11427526e-04]\n",
      " [  3.91804380e-03]\n",
      " [  9.25864756e-01]\n",
      " [  9.61177468e-01]\n",
      " [  8.94351959e-01]]\n"
     ]
    }
   ],
   "source": [
    "for i in range(100000):\n",
    "    sessSelf.run(train_step2,feed_dict={xs2:datas,ys2:labels})\n",
    "    if i%10000 == 0:\n",
    "        print(sessSelf.run(loss,feed_dict={xs2:datas,ys2:labels}))\n",
    "print('结果：',sessSelf.run(output,feed_dict={xs2:datas,ys2:labels}))"
   ]
  },
  {
   "cell_type": "code",
   "execution_count": null,
   "metadata": {
    "collapsed": true
   },
   "outputs": [],
   "source": []
  }
 ],
 "metadata": {
  "anaconda-cloud": {},
  "kernelspec": {
   "display_name": "Python [default]",
   "language": "python",
   "name": "python3"
  },
  "language_info": {
   "codemirror_mode": {
    "name": "ipython",
    "version": 3
   },
   "file_extension": ".py",
   "mimetype": "text/x-python",
   "name": "python",
   "nbconvert_exporter": "python",
   "pygments_lexer": "ipython3",
   "version": "3.5.2"
  }
 },
 "nbformat": 4,
 "nbformat_minor": 1
}
