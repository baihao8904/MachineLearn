{
 "cells": [
  {
   "cell_type": "code",
   "execution_count": 1,
   "metadata": {
    "collapsed": true
   },
   "outputs": [],
   "source": [
    "import pandas as pd\n",
    "import numpy as np"
   ]
  },
  {
   "cell_type": "code",
   "execution_count": 2,
   "metadata": {
    "collapsed": false
   },
   "outputs": [],
   "source": [
    "trainData = pd.read_csv('train.csv')"
   ]
  },
  {
   "cell_type": "code",
   "execution_count": 3,
   "metadata": {
    "collapsed": false
   },
   "outputs": [
    {
     "data": {
      "text/html": [
       "<div>\n",
       "<table border=\"1\" class=\"dataframe\">\n",
       "  <thead>\n",
       "    <tr style=\"text-align: right;\">\n",
       "      <th></th>\n",
       "      <th>型号</th>\n",
       "      <th>功率KW</th>\n",
       "      <th>空气密度kg/M^3</th>\n",
       "      <th>转速（转/分）</th>\n",
       "      <th>输出电压V</th>\n",
       "      <th>风速m/s</th>\n",
       "      <th>label</th>\n",
       "    </tr>\n",
       "  </thead>\n",
       "  <tbody>\n",
       "    <tr>\n",
       "      <th>0</th>\n",
       "      <td>WT1500-82</td>\n",
       "      <td>1500.000000</td>\n",
       "      <td>0.900000</td>\n",
       "      <td>400.000000</td>\n",
       "      <td>220.000000</td>\n",
       "      <td>25.000000</td>\n",
       "      <td>1</td>\n",
       "    </tr>\n",
       "    <tr>\n",
       "      <th>1</th>\n",
       "      <td>WT1500-82</td>\n",
       "      <td>1584.534396</td>\n",
       "      <td>0.808636</td>\n",
       "      <td>364.159961</td>\n",
       "      <td>226.822574</td>\n",
       "      <td>26.558918</td>\n",
       "      <td>1</td>\n",
       "    </tr>\n",
       "    <tr>\n",
       "      <th>2</th>\n",
       "      <td>WT1500-82</td>\n",
       "      <td>1519.384419</td>\n",
       "      <td>0.798534</td>\n",
       "      <td>396.654989</td>\n",
       "      <td>209.912037</td>\n",
       "      <td>21.354980</td>\n",
       "      <td>1</td>\n",
       "    </tr>\n",
       "    <tr>\n",
       "      <th>3</th>\n",
       "      <td>WT1500-82</td>\n",
       "      <td>1508.678718</td>\n",
       "      <td>0.809248</td>\n",
       "      <td>394.540611</td>\n",
       "      <td>203.643619</td>\n",
       "      <td>23.910896</td>\n",
       "      <td>1</td>\n",
       "    </tr>\n",
       "    <tr>\n",
       "      <th>4</th>\n",
       "      <td>WT1500-82</td>\n",
       "      <td>1333.866675</td>\n",
       "      <td>0.642893</td>\n",
       "      <td>481.710749</td>\n",
       "      <td>231.827448</td>\n",
       "      <td>29.495459</td>\n",
       "      <td>1</td>\n",
       "    </tr>\n",
       "  </tbody>\n",
       "</table>\n",
       "</div>"
      ],
      "text/plain": [
       "          型号         功率KW  空气密度kg/M^3     转速（转/分）       输出电压V      风速m/s  \\\n",
       "0  WT1500-82  1500.000000    0.900000  400.000000  220.000000  25.000000   \n",
       "1  WT1500-82  1584.534396    0.808636  364.159961  226.822574  26.558918   \n",
       "2  WT1500-82  1519.384419    0.798534  396.654989  209.912037  21.354980   \n",
       "3  WT1500-82  1508.678718    0.809248  394.540611  203.643619  23.910896   \n",
       "4  WT1500-82  1333.866675    0.642893  481.710749  231.827448  29.495459   \n",
       "\n",
       "   label  \n",
       "0      1  \n",
       "1      1  \n",
       "2      1  \n",
       "3      1  \n",
       "4      1  "
      ]
     },
     "execution_count": 3,
     "metadata": {},
     "output_type": "execute_result"
    }
   ],
   "source": [
    "trainData.head()"
   ]
  },
  {
   "cell_type": "code",
   "execution_count": 4,
   "metadata": {
    "collapsed": true
   },
   "outputs": [],
   "source": [
    "#使用sklearn对数据进行乱序\n",
    "from sklearn.utils import shuffle"
   ]
  },
  {
   "cell_type": "markdown",
   "metadata": {},
   "source": [
    "打乱数据顺序"
   ]
  },
  {
   "cell_type": "code",
   "execution_count": 5,
   "metadata": {
    "collapsed": true
   },
   "outputs": [],
   "source": [
    "trainDataSkS = shuffle(trainData)"
   ]
  },
  {
   "cell_type": "code",
   "execution_count": 6,
   "metadata": {
    "collapsed": true
   },
   "outputs": [],
   "source": [
    "testData = pd.read_csv('test.csv')"
   ]
  },
  {
   "cell_type": "code",
   "execution_count": 7,
   "metadata": {
    "collapsed": false
   },
   "outputs": [],
   "source": [
    "#使用pandas自带方法进行乱序\n",
    "testDataNS = testData.sample(frac=1)"
   ]
  },
  {
   "cell_type": "code",
   "execution_count": 8,
   "metadata": {
    "collapsed": false
   },
   "outputs": [
    {
     "data": {
      "text/plain": [
       "Index(['型号', '功率KW', '空气密度kg/M^3', '转速（转/分）', '输出电压V', '风速m/s', 'label'], dtype='object')"
      ]
     },
     "execution_count": 8,
     "metadata": {},
     "output_type": "execute_result"
    }
   ],
   "source": [
    "testDataNS.columns"
   ]
  },
  {
   "cell_type": "code",
   "execution_count": 9,
   "metadata": {
    "collapsed": false
   },
   "outputs": [],
   "source": [
    "train_X = trainDataSkS[['功率KW', '空气密度kg/M^3', '转速（转/分）', '输出电压V', '风速m/s']]"
   ]
  },
  {
   "cell_type": "code",
   "execution_count": 10,
   "metadata": {
    "collapsed": false
   },
   "outputs": [],
   "source": [
    "train_Y = trainDataSkS['label']"
   ]
  },
  {
   "cell_type": "code",
   "execution_count": 11,
   "metadata": {
    "collapsed": false
   },
   "outputs": [],
   "source": [
    "test_X = testDataNS[['功率KW', '空气密度kg/M^3', '转速（转/分）', '输出电压V', '风速m/s']]"
   ]
  },
  {
   "cell_type": "code",
   "execution_count": 12,
   "metadata": {
    "collapsed": true
   },
   "outputs": [],
   "source": [
    "test_Y = testDataNS['label']"
   ]
  },
  {
   "cell_type": "code",
   "execution_count": 16,
   "metadata": {
    "collapsed": false
   },
   "outputs": [
    {
     "data": {
      "text/html": [
       "<div>\n",
       "<table border=\"1\" class=\"dataframe\">\n",
       "  <thead>\n",
       "    <tr style=\"text-align: right;\">\n",
       "      <th></th>\n",
       "      <th>功率KW</th>\n",
       "      <th>空气密度kg/M^3</th>\n",
       "      <th>转速（转/分）</th>\n",
       "      <th>输出电压V</th>\n",
       "      <th>风速m/s</th>\n",
       "    </tr>\n",
       "  </thead>\n",
       "  <tbody>\n",
       "    <tr>\n",
       "      <th>3989</th>\n",
       "      <td>1110.698278</td>\n",
       "      <td>1.198241</td>\n",
       "      <td>390.666307</td>\n",
       "      <td>219.336005</td>\n",
       "      <td>31.534630</td>\n",
       "    </tr>\n",
       "    <tr>\n",
       "      <th>1729</th>\n",
       "      <td>1094.375438</td>\n",
       "      <td>0.792611</td>\n",
       "      <td>453.177650</td>\n",
       "      <td>196.848904</td>\n",
       "      <td>28.491080</td>\n",
       "    </tr>\n",
       "    <tr>\n",
       "      <th>3451</th>\n",
       "      <td>1646.013303</td>\n",
       "      <td>0.791076</td>\n",
       "      <td>353.344080</td>\n",
       "      <td>222.521669</td>\n",
       "      <td>23.314313</td>\n",
       "    </tr>\n",
       "    <tr>\n",
       "      <th>4312</th>\n",
       "      <td>1847.385602</td>\n",
       "      <td>1.331159</td>\n",
       "      <td>402.552072</td>\n",
       "      <td>206.764010</td>\n",
       "      <td>38.342145</td>\n",
       "    </tr>\n",
       "    <tr>\n",
       "      <th>2013</th>\n",
       "      <td>1166.897776</td>\n",
       "      <td>0.794738</td>\n",
       "      <td>484.286539</td>\n",
       "      <td>219.565736</td>\n",
       "      <td>21.043872</td>\n",
       "    </tr>\n",
       "    <tr>\n",
       "      <th>3937</th>\n",
       "      <td>1200.133937</td>\n",
       "      <td>0.885170</td>\n",
       "      <td>495.770293</td>\n",
       "      <td>240.030451</td>\n",
       "      <td>37.417238</td>\n",
       "    </tr>\n",
       "    <tr>\n",
       "      <th>1740</th>\n",
       "      <td>1218.328800</td>\n",
       "      <td>0.897739</td>\n",
       "      <td>424.222196</td>\n",
       "      <td>217.020485</td>\n",
       "      <td>16.254433</td>\n",
       "    </tr>\n",
       "    <tr>\n",
       "      <th>4523</th>\n",
       "      <td>1799.288691</td>\n",
       "      <td>0.871879</td>\n",
       "      <td>400.336608</td>\n",
       "      <td>219.335121</td>\n",
       "      <td>33.710734</td>\n",
       "    </tr>\n",
       "    <tr>\n",
       "      <th>5371</th>\n",
       "      <td>1862.111585</td>\n",
       "      <td>0.785773</td>\n",
       "      <td>319.704373</td>\n",
       "      <td>246.170359</td>\n",
       "      <td>23.689966</td>\n",
       "    </tr>\n",
       "    <tr>\n",
       "      <th>1941</th>\n",
       "      <td>1189.027443</td>\n",
       "      <td>0.775675</td>\n",
       "      <td>422.720718</td>\n",
       "      <td>194.421952</td>\n",
       "      <td>20.784848</td>\n",
       "    </tr>\n",
       "    <tr>\n",
       "      <th>2162</th>\n",
       "      <td>882.540999</td>\n",
       "      <td>0.584456</td>\n",
       "      <td>430.897635</td>\n",
       "      <td>229.070836</td>\n",
       "      <td>22.513215</td>\n",
       "    </tr>\n",
       "    <tr>\n",
       "      <th>1201</th>\n",
       "      <td>1043.683777</td>\n",
       "      <td>0.818405</td>\n",
       "      <td>375.219260</td>\n",
       "      <td>236.631662</td>\n",
       "      <td>28.330674</td>\n",
       "    </tr>\n",
       "    <tr>\n",
       "      <th>432</th>\n",
       "      <td>1399.892077</td>\n",
       "      <td>0.776253</td>\n",
       "      <td>442.951642</td>\n",
       "      <td>215.753371</td>\n",
       "      <td>29.122967</td>\n",
       "    </tr>\n",
       "    <tr>\n",
       "      <th>1406</th>\n",
       "      <td>1961.482081</td>\n",
       "      <td>0.912496</td>\n",
       "      <td>416.268799</td>\n",
       "      <td>248.094685</td>\n",
       "      <td>25.210291</td>\n",
       "    </tr>\n",
       "    <tr>\n",
       "      <th>5812</th>\n",
       "      <td>987.840789</td>\n",
       "      <td>0.913082</td>\n",
       "      <td>588.766054</td>\n",
       "      <td>205.112559</td>\n",
       "      <td>22.899082</td>\n",
       "    </tr>\n",
       "    <tr>\n",
       "      <th>4348</th>\n",
       "      <td>1038.490623</td>\n",
       "      <td>1.288099</td>\n",
       "      <td>345.886887</td>\n",
       "      <td>214.947790</td>\n",
       "      <td>19.492072</td>\n",
       "    </tr>\n",
       "    <tr>\n",
       "      <th>1015</th>\n",
       "      <td>1342.158693</td>\n",
       "      <td>0.782982</td>\n",
       "      <td>486.388318</td>\n",
       "      <td>191.258328</td>\n",
       "      <td>25.506543</td>\n",
       "    </tr>\n",
       "    <tr>\n",
       "      <th>1912</th>\n",
       "      <td>1540.096864</td>\n",
       "      <td>1.209258</td>\n",
       "      <td>416.722242</td>\n",
       "      <td>226.066572</td>\n",
       "      <td>19.058408</td>\n",
       "    </tr>\n",
       "    <tr>\n",
       "      <th>5943</th>\n",
       "      <td>1568.679477</td>\n",
       "      <td>0.605391</td>\n",
       "      <td>463.008834</td>\n",
       "      <td>270.770438</td>\n",
       "      <td>34.686666</td>\n",
       "    </tr>\n",
       "    <tr>\n",
       "      <th>1363</th>\n",
       "      <td>1717.062686</td>\n",
       "      <td>0.931019</td>\n",
       "      <td>456.728435</td>\n",
       "      <td>217.039793</td>\n",
       "      <td>29.654359</td>\n",
       "    </tr>\n",
       "  </tbody>\n",
       "</table>\n",
       "</div>"
      ],
      "text/plain": [
       "             功率KW  空气密度kg/M^3     转速（转/分）       输出电压V      风速m/s\n",
       "3989  1110.698278    1.198241  390.666307  219.336005  31.534630\n",
       "1729  1094.375438    0.792611  453.177650  196.848904  28.491080\n",
       "3451  1646.013303    0.791076  353.344080  222.521669  23.314313\n",
       "4312  1847.385602    1.331159  402.552072  206.764010  38.342145\n",
       "2013  1166.897776    0.794738  484.286539  219.565736  21.043872\n",
       "3937  1200.133937    0.885170  495.770293  240.030451  37.417238\n",
       "1740  1218.328800    0.897739  424.222196  217.020485  16.254433\n",
       "4523  1799.288691    0.871879  400.336608  219.335121  33.710734\n",
       "5371  1862.111585    0.785773  319.704373  246.170359  23.689966\n",
       "1941  1189.027443    0.775675  422.720718  194.421952  20.784848\n",
       "2162   882.540999    0.584456  430.897635  229.070836  22.513215\n",
       "1201  1043.683777    0.818405  375.219260  236.631662  28.330674\n",
       "432   1399.892077    0.776253  442.951642  215.753371  29.122967\n",
       "1406  1961.482081    0.912496  416.268799  248.094685  25.210291\n",
       "5812   987.840789    0.913082  588.766054  205.112559  22.899082\n",
       "4348  1038.490623    1.288099  345.886887  214.947790  19.492072\n",
       "1015  1342.158693    0.782982  486.388318  191.258328  25.506543\n",
       "1912  1540.096864    1.209258  416.722242  226.066572  19.058408\n",
       "5943  1568.679477    0.605391  463.008834  270.770438  34.686666\n",
       "1363  1717.062686    0.931019  456.728435  217.039793  29.654359"
      ]
     },
     "execution_count": 16,
     "metadata": {},
     "output_type": "execute_result"
    }
   ],
   "source": [
    "train_X.head(20)"
   ]
  },
  {
   "cell_type": "code",
   "execution_count": 15,
   "metadata": {
    "collapsed": true
   },
   "outputs": [
    {
     "data": {
      "text/plain": [
       "3989    1\n",
       "1729    1\n",
       "3451    1\n",
       "4312    1\n",
       "2013    1\n",
       "3937    1\n",
       "1740    1\n",
       "4523    1\n",
       "5371    0\n",
       "1941    1\n",
       "2162    1\n",
       "1201    1\n",
       "432     1\n",
       "1406    1\n",
       "5812    0\n",
       "4348    1\n",
       "1015    1\n",
       "1912    1\n",
       "5943    0\n",
       "1363    1\n",
       "Name: label, dtype: int64"
      ]
     },
     "execution_count": 15,
     "metadata": {},
     "output_type": "execute_result"
    }
   ],
   "source": [
    "train_Y.head(20)"
   ]
  },
  {
   "cell_type": "code",
   "execution_count": 13,
   "metadata": {
    "collapsed": true
   },
   "outputs": [],
   "source": [
    "#模型评价\n",
    "from sklearn.metrics import classification_report"
   ]
  },
  {
   "cell_type": "code",
   "execution_count": 14,
   "metadata": {
    "collapsed": false
   },
   "outputs": [
    {
     "name": "stderr",
     "output_type": "stream",
     "text": [
      "E:\\Anaconda3\\lib\\site-packages\\sklearn\\cross_validation.py:44: DeprecationWarning: This module was deprecated in version 0.18 in favor of the model_selection module into which all the refactored classes and functions are moved. Also note that the interface of the new CV iterators are different from that of this module. This module will be removed in 0.20.\n",
      "  \"This module will be removed in 0.20.\", DeprecationWarning)\n"
     ]
    }
   ],
   "source": [
    "from sklearn.cross_validation import train_test_split"
   ]
  },
  {
   "cell_type": "code",
   "execution_count": 30,
   "metadata": {
    "collapsed": true
   },
   "outputs": [],
   "source": [
    "X_train,X_test,Y_train,Y_test = train_test_split(train_X,train_Y,test_size=0.25,random_state=33)"
   ]
  },
  {
   "cell_type": "markdown",
   "metadata": {},
   "source": [
    "随机森林"
   ]
  },
  {
   "cell_type": "code",
   "execution_count": 15,
   "metadata": {
    "collapsed": true
   },
   "outputs": [],
   "source": [
    "# 使用随机森林进行分类\n",
    "from sklearn.ensemble import RandomForestClassifier"
   ]
  },
  {
   "cell_type": "code",
   "execution_count": 16,
   "metadata": {
    "collapsed": false
   },
   "outputs": [
    {
     "data": {
      "text/plain": [
       "RandomForestClassifier(bootstrap=True, class_weight=None, criterion='gini',\n",
       "            max_depth=None, max_features='auto', max_leaf_nodes=None,\n",
       "            min_impurity_split=1e-07, min_samples_leaf=1,\n",
       "            min_samples_split=2, min_weight_fraction_leaf=0.0,\n",
       "            n_estimators=10, n_jobs=1, oob_score=False, random_state=None,\n",
       "            verbose=0, warm_start=False)"
      ]
     },
     "execution_count": 16,
     "metadata": {},
     "output_type": "execute_result"
    }
   ],
   "source": [
    "rfc = RandomForestClassifier()\n",
    "rfc.fit(train_X,train_Y)"
   ]
  },
  {
   "cell_type": "code",
   "execution_count": 17,
   "metadata": {
    "collapsed": true
   },
   "outputs": [],
   "source": [
    "rfc_y_pred = rfc.predict(test_X)"
   ]
  },
  {
   "cell_type": "code",
   "execution_count": 18,
   "metadata": {
    "collapsed": false
   },
   "outputs": [
    {
     "data": {
      "text/plain": [
       "array([1, 1, 1, ..., 1, 1, 1], dtype=int64)"
      ]
     },
     "execution_count": 18,
     "metadata": {},
     "output_type": "execute_result"
    }
   ],
   "source": [
    "rfc_y_pred"
   ]
  },
  {
   "cell_type": "code",
   "execution_count": 19,
   "metadata": {
    "collapsed": false
   },
   "outputs": [
    {
     "name": "stdout",
     "output_type": "stream",
     "text": [
      "0.9125\n",
      "             precision    recall  f1-score   support\n",
      "\n",
      "         故障       0.80      0.64      0.71       200\n",
      "         正常       0.93      0.97      0.95      1000\n",
      "\n",
      "avg / total       0.91      0.91      0.91      1200\n",
      "\n"
     ]
    }
   ],
   "source": [
    "print(rfc.score(test_X,test_Y))\n",
    "print(classification_report(test_Y,rfc_y_pred,target_names=['故障','正常']))"
   ]
  },
  {
   "cell_type": "markdown",
   "metadata": {},
   "source": [
    "GBDT算法的使用"
   ]
  },
  {
   "cell_type": "code",
   "execution_count": 20,
   "metadata": {
    "collapsed": true
   },
   "outputs": [],
   "source": [
    "from sklearn.ensemble import GradientBoostingClassifier\n",
    "gbc = GradientBoostingClassifier()"
   ]
  },
  {
   "cell_type": "code",
   "execution_count": 21,
   "metadata": {
    "collapsed": false
   },
   "outputs": [
    {
     "data": {
      "text/plain": [
       "GradientBoostingClassifier(criterion='friedman_mse', init=None,\n",
       "              learning_rate=0.1, loss='deviance', max_depth=3,\n",
       "              max_features=None, max_leaf_nodes=None,\n",
       "              min_impurity_split=1e-07, min_samples_leaf=1,\n",
       "              min_samples_split=2, min_weight_fraction_leaf=0.0,\n",
       "              n_estimators=100, presort='auto', random_state=None,\n",
       "              subsample=1.0, verbose=0, warm_start=False)"
      ]
     },
     "execution_count": 21,
     "metadata": {},
     "output_type": "execute_result"
    }
   ],
   "source": [
    "gbc.fit(train_X,train_Y)"
   ]
  },
  {
   "cell_type": "code",
   "execution_count": 22,
   "metadata": {
    "collapsed": true
   },
   "outputs": [],
   "source": [
    "gbc_y_pred = gbc.predict(test_X)"
   ]
  },
  {
   "cell_type": "code",
   "execution_count": 28,
   "metadata": {
    "collapsed": false
   },
   "outputs": [
    {
     "name": "stdout",
     "output_type": "stream",
     "text": [
      "0.915833333333\n",
      "             precision    recall  f1-score   support\n",
      "\n",
      "         故障       0.87      0.58      0.70       200\n",
      "         正常       0.92      0.98      0.95      1000\n",
      "\n",
      "avg / total       0.91      0.92      0.91      1200\n",
      "\n"
     ]
    }
   ],
   "source": [
    "print(gbc.score(test_X,test_Y))\n",
    "print(classification_report(test_Y,gbc_y_pred,target_names=['故障','正常']))"
   ]
  },
  {
   "cell_type": "markdown",
   "metadata": {},
   "source": [
    "XGboost的使用"
   ]
  },
  {
   "cell_type": "code",
   "execution_count": 24,
   "metadata": {
    "collapsed": true
   },
   "outputs": [],
   "source": [
    "from xgboost import XGBClassifier"
   ]
  },
  {
   "cell_type": "code",
   "execution_count": 29,
   "metadata": {
    "collapsed": false
   },
   "outputs": [
    {
     "data": {
      "text/plain": [
       "XGBClassifier(base_score=0.5, colsample_bylevel=1, colsample_bytree=1,\n",
       "       gamma=0, learning_rate=0.1, max_delta_step=0, max_depth=3,\n",
       "       min_child_weight=1, missing=None, n_estimators=100, nthread=-1,\n",
       "       objective='binary:logistic', reg_alpha=0, reg_lambda=1,\n",
       "       scale_pos_weight=1, seed=0, silent=True, subsample=1)"
      ]
     },
     "execution_count": 29,
     "metadata": {},
     "output_type": "execute_result"
    }
   ],
   "source": [
    "xgbc = XGBClassifier()\n",
    "xgbc.fit(train_X,train_Y)"
   ]
  },
  {
   "cell_type": "code",
   "execution_count": 30,
   "metadata": {
    "collapsed": true
   },
   "outputs": [],
   "source": [
    "xgbc_Y_pred  = xgbc.predict(test_X)"
   ]
  },
  {
   "cell_type": "code",
   "execution_count": 31,
   "metadata": {
    "collapsed": false
   },
   "outputs": [
    {
     "name": "stdout",
     "output_type": "stream",
     "text": [
      "0.919166666667\n",
      "             precision    recall  f1-score   support\n",
      "\n",
      "         故障       0.91      0.57      0.70       200\n",
      "         正常       0.92      0.99      0.95      1000\n",
      "\n",
      "avg / total       0.92      0.92      0.91      1200\n",
      "\n"
     ]
    }
   ],
   "source": [
    "print(xgbc.score(test_X,test_Y))\n",
    "print(classification_report(test_Y,xgbc_Y_pred,target_names=['故障','正常']))"
   ]
  },
  {
   "cell_type": "markdown",
   "metadata": {},
   "source": [
    "自己编写的神经网络模型 两层BP神经网络"
   ]
  },
  {
   "cell_type": "code",
   "execution_count": 14,
   "metadata": {
    "collapsed": true
   },
   "outputs": [],
   "source": [
    "from sklearn import preprocessing"
   ]
  },
  {
   "cell_type": "code",
   "execution_count": 15,
   "metadata": {
    "collapsed": true
   },
   "outputs": [],
   "source": [
    "#将训练数据X归一化\n",
    "train_Xscaled = preprocessing.scale(train_X)"
   ]
  },
  {
   "cell_type": "code",
   "execution_count": 16,
   "metadata": {
    "collapsed": false,
    "scrolled": false
   },
   "outputs": [],
   "source": [
    "#构造神经网络的训练集\n",
    "#训练数据\n",
    "train_list = []\n",
    "for i in train_Xscaled:\n",
    "    train_list.append(list(i))"
   ]
  },
  {
   "cell_type": "code",
   "execution_count": 17,
   "metadata": {
    "collapsed": false
   },
   "outputs": [],
   "source": [
    "train_label_list = []\n",
    "for i in range(train_Y.shape[0]):\n",
    "    thelist = []\n",
    "    thelist.append(train_Y.iloc[i])\n",
    "    train_label_list.append(thelist)"
   ]
  },
  {
   "cell_type": "code",
   "execution_count": 18,
   "metadata": {
    "collapsed": true
   },
   "outputs": [],
   "source": [
    "import BPNN"
   ]
  },
  {
   "cell_type": "code",
   "execution_count": 19,
   "metadata": {
    "collapsed": true
   },
   "outputs": [],
   "source": [
    "theBPNN = BPNN.BPNeuralNetwork()"
   ]
  },
  {
   "cell_type": "code",
   "execution_count": 20,
   "metadata": {
    "collapsed": false
   },
   "outputs": [
    {
     "name": "stdout",
     "output_type": "stream",
     "text": [
      "迭代 0 次 当前用时： 1.2838549613952637\n",
      "当前第0次误差是793.697505\n",
      "迭代 100 次 当前用时： 152.1820216178894\n",
      "迭代 200 次 当前用时： 311.8724820613861\n",
      "迭代 300 次 当前用时： 466.69785165786743\n",
      "迭代 400 次 当前用时： 617.743013381958\n",
      "迭代 500 次 当前用时： 767.5353147983551\n",
      "当前第500次误差是353.787791\n",
      "迭代 600 次 当前用时： 899.112557888031\n",
      "迭代 700 次 当前用时： 1045.861881017685\n",
      "迭代 800 次 当前用时： 1192.7607486248016\n",
      "迭代 900 次 当前用时： 1341.6874911785126\n",
      "迭代 1000 次 当前用时： 1486.1432185173035\n",
      "当前第1000次误差是353.784379\n",
      "迭代 1100 次 当前用时： 1639.1510610580444\n",
      "迭代 1200 次 当前用时： 1785.783332824707\n",
      "迭代 1300 次 当前用时： 1932.5101861953735\n",
      "迭代 1400 次 当前用时： 2076.632660627365\n",
      "迭代 1500 次 当前用时： 2218.8593299388885\n",
      "当前第1500次误差是353.784051\n",
      "迭代 1600 次 当前用时： 2363.195451974869\n",
      "迭代 1700 次 当前用时： 2504.727323770523\n",
      "迭代 1800 次 当前用时： 2645.5473334789276\n",
      "迭代 1900 次 当前用时： 2758.607229948044\n",
      "迭代 2000 次 当前用时： 2857.7542641162872\n",
      "当前第2000次误差是353.783984\n"
     ]
    }
   ],
   "source": [
    "theBPNN.testData(train_list,train_label_list)"
   ]
  },
  {
   "cell_type": "code",
   "execution_count": 26,
   "metadata": {
    "collapsed": true
   },
   "outputs": [
    {
     "name": "stdout",
     "output_type": "stream",
     "text": [
      "迭代 0 次 当前用时： 1.096731424331665\n",
      "当前第0次误差是800.950410\n",
      "迭代 100 次 当前用时： 114.32650780677795\n",
      "迭代 200 次 当前用时： 223.3767285346985\n",
      "迭代 300 次 当前用时： 335.047367811203\n",
      "迭代 400 次 当前用时： 447.69587421417236\n",
      "迭代 500 次 当前用时： 558.9314005374908\n",
      "当前第500次误差是373.057065\n",
      "迭代 600 次 当前用时： 670.287074804306\n",
      "迭代 700 次 当前用时： 790.9964673519135\n",
      "迭代 800 次 当前用时： 919.244767665863\n",
      "迭代 900 次 当前用时： 1032.8911445140839\n",
      "迭代 1000 次 当前用时： 1142.7564635276794\n",
      "当前第1000次误差是372.905658\n",
      "迭代 1100 次 当前用时： 1240.8869152069092\n",
      "迭代 1200 次 当前用时： 1333.3125624656677\n",
      "迭代 1300 次 当前用时： 1447.8769855499268\n",
      "迭代 1400 次 当前用时： 1563.1747164726257\n",
      "迭代 1500 次 当前用时： 1680.0709505081177\n",
      "当前第1500次误差是372.776969\n",
      "迭代 1600 次 当前用时： 1799.6838655471802\n",
      "迭代 1700 次 当前用时： 1915.7086853981018\n",
      "迭代 1800 次 当前用时： 2030.2085056304932\n",
      "迭代 1900 次 当前用时： 2142.482882976532\n",
      "迭代 2000 次 当前用时： 2256.102680206299\n",
      "当前第2000次误差是372.684535\n",
      "迭代 2100 次 当前用时： 2365.6062183380127\n",
      "迭代 2200 次 当前用时： 2479.982628107071\n",
      "迭代 2300 次 当前用时： 2595.5190818309784\n",
      "迭代 2400 次 当前用时： 2713.0009264945984\n",
      "迭代 2500 次 当前用时： 2824.9658925533295\n",
      "当前第2500次误差是372.614851\n",
      "迭代 2600 次 当前用时： 2938.0008482933044\n",
      "迭代 2700 次 当前用时： 3051.9473469257355\n",
      "迭代 2800 次 当前用时： 3163.4321842193604\n",
      "迭代 2900 次 当前用时： 3275.466516017914\n",
      "迭代 3000 次 当前用时： 3388.934196949005\n",
      "当前第3000次误差是372.554033\n",
      "迭代 3100 次 当前用时： 3502.943383216858\n",
      "迭代 3200 次 当前用时： 3612.042795419693\n",
      "迭代 3300 次 当前用时： 3721.277211666107\n",
      "迭代 3400 次 当前用时： 3834.170684337616\n",
      "迭代 3500 次 当前用时： 3947.4407551288605\n",
      "当前第3500次误差是372.475662\n",
      "迭代 3600 次 当前用时： 4062.346518754959\n",
      "迭代 3700 次 当前用时： 4175.1537256240845\n",
      "迭代 3800 次 当前用时： 4286.839632034302\n",
      "迭代 3900 次 当前用时： 4400.927852392197\n",
      "迭代 4000 次 当前用时： 4516.032775878906\n",
      "当前第4000次误差是367.623516\n",
      "迭代 4100 次 当前用时： 4630.683413743973\n",
      "迭代 4200 次 当前用时： 4741.075562477112\n",
      "迭代 4300 次 当前用时： 4852.021137714386\n",
      "迭代 4400 次 当前用时： 4966.407421112061\n",
      "迭代 4500 次 当前用时： 5101.374724149704\n",
      "当前第4500次误差是366.827651\n",
      "迭代 4600 次 当前用时： 5235.522749185562\n",
      "迭代 4700 次 当前用时： 5361.947698831558\n",
      "迭代 4800 次 当前用时： 5485.90856051445\n",
      "迭代 4900 次 当前用时： 5613.655229568481\n",
      "迭代 5000 次 当前用时： 5740.053127288818\n",
      "当前第5000次误差是366.487884\n",
      "迭代 5100 次 当前用时： 5871.968158721924\n",
      "迭代 5200 次 当前用时： 6014.981238126755\n",
      "迭代 5300 次 当前用时： 6166.72066617012\n",
      "迭代 5400 次 当前用时： 6308.186220407486\n",
      "迭代 5500 次 当前用时： 6449.18230843544\n",
      "当前第5500次误差是366.314955\n",
      "迭代 5600 次 当前用时： 6589.507480144501\n",
      "迭代 5700 次 当前用时： 6737.197082996368\n",
      "迭代 5800 次 当前用时： 6887.133512735367\n",
      "迭代 5900 次 当前用时： 7039.557006120682\n",
      "迭代 6000 次 当前用时： 7191.344857931137\n",
      "当前第6000次误差是366.200824\n",
      "迭代 6100 次 当前用时： 7355.281574964523\n",
      "迭代 6200 次 当前用时： 7505.049098730087\n",
      "迭代 6300 次 当前用时： 7645.697051048279\n",
      "迭代 6400 次 当前用时： 7778.31504201889\n",
      "迭代 6500 次 当前用时： 7907.635383367538\n",
      "当前第6500次误差是366.079252\n",
      "迭代 6600 次 当前用时： 8053.979666233063\n",
      "迭代 6700 次 当前用时： 8190.110177516937\n",
      "迭代 6800 次 当前用时： 8331.947885036469\n",
      "迭代 6900 次 当前用时： 8482.812065601349\n",
      "迭代 7000 次 当前用时： 8626.270284414291\n",
      "当前第7000次误差是365.974208\n",
      "迭代 7100 次 当前用时： 8770.150335788727\n",
      "迭代 7200 次 当前用时： 8906.566896915436\n",
      "迭代 7300 次 当前用时： 9047.610530853271\n",
      "迭代 7400 次 当前用时： 9184.136120796204\n",
      "迭代 7500 次 当前用时： 9328.054342508316\n",
      "当前第7500次误差是365.871698\n",
      "迭代 7600 次 当前用时： 9478.249604940414\n",
      "迭代 7700 次 当前用时： 9632.867897748947\n",
      "迭代 7800 次 当前用时： 9785.697044849396\n",
      "迭代 7900 次 当前用时： 9938.694633722305\n",
      "迭代 8000 次 当前用时： 10087.31607413292\n",
      "当前第8000次误差是365.779933\n",
      "迭代 8100 次 当前用时： 10244.792166471481\n",
      "迭代 8200 次 当前用时： 10404.965970039368\n",
      "迭代 8300 次 当前用时： 10569.676471233368\n",
      "迭代 8400 次 当前用时： 10739.487753391266\n",
      "迭代 8500 次 当前用时： 10895.47094297409\n",
      "当前第8500次误差是365.698405\n",
      "迭代 8600 次 当前用时： 11041.042587518692\n",
      "迭代 8700 次 当前用时： 11185.111679792404\n",
      "迭代 8800 次 当前用时： 11331.13907790184\n",
      "迭代 8900 次 当前用时： 11500.216204404831\n",
      "迭代 9000 次 当前用时： 11665.93836069107\n",
      "当前第9000次误差是365.625418\n",
      "迭代 9100 次 当前用时： 11825.632833003998\n",
      "迭代 9200 次 当前用时： 11983.005506038666\n",
      "迭代 9300 次 当前用时： 12128.648170471191\n",
      "迭代 9400 次 当前用时： 12277.788197517395\n",
      "迭代 9500 次 当前用时： 12445.29340338707\n",
      "当前第9500次误差是365.559229\n",
      "迭代 9600 次 当前用时： 12591.029742240906\n",
      "迭代 9700 次 当前用时： 12748.183093547821\n",
      "迭代 9800 次 当前用时： 12904.00707411766\n",
      "迭代 9900 次 当前用时： 13059.710055828094\n"
     ]
    }
   ],
   "source": [
    "theBPNN.testData(train_list,train_label_list)"
   ]
  },
  {
   "cell_type": "code",
   "execution_count": 21,
   "metadata": {
    "collapsed": true
   },
   "outputs": [],
   "source": [
    "test_Xscaled = preprocessing.scale(test_X)"
   ]
  },
  {
   "cell_type": "code",
   "execution_count": 22,
   "metadata": {
    "collapsed": false
   },
   "outputs": [],
   "source": [
    "test_list = []\n",
    "for i in test_Xscaled:\n",
    "    test_list.append(list(i))"
   ]
  },
  {
   "cell_type": "code",
   "execution_count": 23,
   "metadata": {
    "collapsed": false
   },
   "outputs": [],
   "source": [
    "test_label_list = []\n",
    "for i in range(test_Y.shape[0]):\n",
    "    thelist = []\n",
    "    thelist.append(test_Y.iloc[i])\n",
    "    test_label_list.append(thelist)"
   ]
  },
  {
   "cell_type": "code",
   "execution_count": 31,
   "metadata": {
    "collapsed": false
   },
   "outputs": [],
   "source": [
    "result_list = []\n",
    "for item in test_list:\n",
    "    if theBPNN.predict(item)[0] > 0.5:\n",
    "        result_list.append(1)\n",
    "    else:\n",
    "        result_list.append(0)\n",
    "resultSe2 = pd.Series(result_list)"
   ]
  },
  {
   "cell_type": "code",
   "execution_count": 32,
   "metadata": {
    "collapsed": true
   },
   "outputs": [
    {
     "data": {
      "text/plain": [
       "0       0\n",
       "1       1\n",
       "2       0\n",
       "3       1\n",
       "4       1\n",
       "5       1\n",
       "6       0\n",
       "7       1\n",
       "8       1\n",
       "9       1\n",
       "10      1\n",
       "11      1\n",
       "12      1\n",
       "13      1\n",
       "14      1\n",
       "15      1\n",
       "16      1\n",
       "17      1\n",
       "18      1\n",
       "19      1\n",
       "20      1\n",
       "21      1\n",
       "22      1\n",
       "23      1\n",
       "24      1\n",
       "25      1\n",
       "26      1\n",
       "27      1\n",
       "28      1\n",
       "29      1\n",
       "       ..\n",
       "1170    1\n",
       "1171    1\n",
       "1172    1\n",
       "1173    1\n",
       "1174    1\n",
       "1175    1\n",
       "1176    1\n",
       "1177    1\n",
       "1178    1\n",
       "1179    1\n",
       "1180    1\n",
       "1181    1\n",
       "1182    0\n",
       "1183    1\n",
       "1184    1\n",
       "1185    1\n",
       "1186    1\n",
       "1187    1\n",
       "1188    1\n",
       "1189    1\n",
       "1190    1\n",
       "1191    1\n",
       "1192    1\n",
       "1193    0\n",
       "1194    1\n",
       "1195    1\n",
       "1196    0\n",
       "1197    1\n",
       "1198    1\n",
       "1199    1\n",
       "dtype: int64"
      ]
     },
     "execution_count": 32,
     "metadata": {},
     "output_type": "execute_result"
    }
   ],
   "source": [
    "resultSe2"
   ]
  },
  {
   "cell_type": "code",
   "execution_count": 40,
   "metadata": {
    "collapsed": true
   },
   "outputs": [
    {
     "data": {
      "text/plain": [
       "840     1\n",
       "897     1\n",
       "282     1\n",
       "595     1\n",
       "117     1\n",
       "754     1\n",
       "716     1\n",
       "360     1\n",
       "45      1\n",
       "203     1\n",
       "1125    0\n",
       "1184    0\n",
       "1068    0\n",
       "952     1\n",
       "357     1\n",
       "1088    0\n",
       "534     1\n",
       "1183    0\n",
       "791     1\n",
       "383     1\n",
       "825     1\n",
       "281     1\n",
       "233     1\n",
       "463     1\n",
       "209     1\n",
       "393     1\n",
       "880     1\n",
       "468     1\n",
       "1102    0\n",
       "226     1\n",
       "       ..\n",
       "295     1\n",
       "14      1\n",
       "1008    0\n",
       "975     1\n",
       "264     1\n",
       "64      1\n",
       "330     1\n",
       "196     1\n",
       "861     1\n",
       "697     1\n",
       "675     1\n",
       "177     1\n",
       "1053    0\n",
       "747     1\n",
       "932     1\n",
       "955     1\n",
       "57      1\n",
       "610     1\n",
       "972     1\n",
       "692     1\n",
       "921     1\n",
       "846     1\n",
       "496     1\n",
       "1050    0\n",
       "971     1\n",
       "1181    0\n",
       "58      1\n",
       "638     1\n",
       "99      1\n",
       "35      1\n",
       "Name: label, dtype: int64"
      ]
     },
     "execution_count": 40,
     "metadata": {},
     "output_type": "execute_result"
    }
   ],
   "source": [
    "test_Y"
   ]
  },
  {
   "cell_type": "code",
   "execution_count": 38,
   "metadata": {
    "collapsed": false
   },
   "outputs": [
    {
     "name": "stdout",
     "output_type": "stream",
     "text": [
      "0.898333333333\n",
      "             precision    recall  f1-score   support\n",
      "\n",
      "         故障       0.78      0.54      0.64       200\n",
      "         正常       0.91      0.97      0.94      1000\n",
      "\n",
      "avg / total       0.89      0.90      0.89      1200\n",
      "\n"
     ]
    }
   ],
   "source": [
    "print(accuracy_score(test_Y,resultSe2))\n",
    "print(classification_report(test_Y,resultSe2,target_names=['故障','正常']))"
   ]
  },
  {
   "cell_type": "markdown",
   "metadata": {},
   "source": [
    "自己编写的三层神经BP神经网络"
   ]
  },
  {
   "cell_type": "code",
   "execution_count": 34,
   "metadata": {
    "collapsed": true
   },
   "outputs": [],
   "source": [
    "import threeNN"
   ]
  },
  {
   "cell_type": "markdown",
   "metadata": {},
   "source": [
    "train_list,train_label_list"
   ]
  },
  {
   "cell_type": "code",
   "execution_count": 35,
   "metadata": {
    "collapsed": true
   },
   "outputs": [],
   "source": [
    "theThreeNN = threeNN.BPNeuralNetwork()"
   ]
  },
  {
   "cell_type": "code",
   "execution_count": 36,
   "metadata": {
    "collapsed": false,
    "scrolled": true
   },
   "outputs": [
    {
     "name": "stdout",
     "output_type": "stream",
     "text": [
      "迭代 0 次 当前用时： 1.767676830291748\n",
      "当前第0次误差是832.343862\n",
      "迭代 100 次 当前用时： 194.9254059791565\n",
      "迭代 200 次 当前用时： 390.22475147247314\n",
      "迭代 300 次 当前用时： 599.7903864383698\n",
      "迭代 400 次 当前用时： 813.0782885551453\n",
      "迭代 500 次 当前用时： 1022.2251222133636\n",
      "当前第500次误差是346.710200\n",
      "迭代 600 次 当前用时： 1229.5557203292847\n",
      "迭代 700 次 当前用时： 1452.5343158245087\n",
      "迭代 800 次 当前用时： 1689.2868068218231\n",
      "迭代 900 次 当前用时： 1896.7495062351227\n",
      "迭代 1000 次 当前用时： 2105.873877763748\n",
      "当前第1000次误差是347.106518\n",
      "迭代 1100 次 当前用时： 2327.472021818161\n",
      "迭代 1200 次 当前用时： 2496.2710111141205\n",
      "迭代 1300 次 当前用时： 2688.0655364990234\n",
      "迭代 1400 次 当前用时： 2856.8151218891144\n",
      "迭代 1500 次 当前用时： 3031.8155975341797\n",
      "当前第1500次误差是347.138178\n",
      "迭代 1600 次 当前用时： 3221.6792747974396\n",
      "迭代 1700 次 当前用时： 3408.041095495224\n",
      "迭代 1800 次 当前用时： 3589.329145669937\n",
      "迭代 1900 次 当前用时： 3791.740816116333\n"
     ]
    }
   ],
   "source": [
    "theThreeNN.testData(train_list,train_label_list)"
   ]
  },
  {
   "cell_type": "code",
   "execution_count": 21,
   "metadata": {
    "collapsed": false
   },
   "outputs": [
    {
     "name": "stdout",
     "output_type": "stream",
     "text": [
      "迭代 0 次 当前用时： 1.2653424739837646\n",
      "当前第0次误差是350.857343\n",
      "迭代 100 次 当前用时： 121.57610559463501\n",
      "迭代 200 次 当前用时： 244.23880100250244\n",
      "迭代 300 次 当前用时： 378.42121171951294\n",
      "迭代 400 次 当前用时： 518.6936113834381\n",
      "迭代 500 次 当前用时： 655.2035501003265\n",
      "当前第500次误差是348.132765\n"
     ]
    }
   ],
   "source": [
    "theThreeNN.train(train_list,train_label_list,limit=501)"
   ]
  },
  {
   "cell_type": "code",
   "execution_count": 39,
   "metadata": {
    "collapsed": true
   },
   "outputs": [],
   "source": [
    "test_Xscaled = preprocessing.scale(test_X)\n",
    "test_list = []\n",
    "for i in test_Xscaled:\n",
    "    test_list.append(list(i))"
   ]
  },
  {
   "cell_type": "code",
   "execution_count": 40,
   "metadata": {
    "collapsed": true
   },
   "outputs": [],
   "source": [
    "test_label_list = []\n",
    "for i in range(test_Y.shape[0]):\n",
    "    thelist = []\n",
    "    thelist.append(test_Y.iloc[i])\n",
    "    test_label_list.append(thelist)"
   ]
  },
  {
   "cell_type": "code",
   "execution_count": 41,
   "metadata": {
    "collapsed": true
   },
   "outputs": [],
   "source": [
    "result_list = []\n",
    "for item in test_list:\n",
    "    if theThreeNN.predict(item)[0] > 0.5:\n",
    "        result_list.append(1)\n",
    "    else:\n",
    "        result_list.append(0)"
   ]
  },
  {
   "cell_type": "code",
   "execution_count": 42,
   "metadata": {
    "collapsed": true
   },
   "outputs": [],
   "source": [
    "resultSe = pd.Series(result_list)"
   ]
  },
  {
   "cell_type": "code",
   "execution_count": 39,
   "metadata": {
    "collapsed": true
   },
   "outputs": [
    {
     "data": {
      "text/plain": [
       "0       1\n",
       "1       1\n",
       "2       1\n",
       "3       1\n",
       "4       1\n",
       "5       1\n",
       "6       1\n",
       "7       1\n",
       "8       1\n",
       "9       1\n",
       "10      1\n",
       "11      1\n",
       "12      0\n",
       "13      0\n",
       "14      1\n",
       "15      1\n",
       "16      1\n",
       "17      0\n",
       "18      1\n",
       "19      1\n",
       "20      1\n",
       "21      1\n",
       "22      1\n",
       "23      1\n",
       "24      1\n",
       "25      1\n",
       "26      1\n",
       "27      1\n",
       "28      1\n",
       "29      1\n",
       "       ..\n",
       "1170    1\n",
       "1171    1\n",
       "1172    1\n",
       "1173    1\n",
       "1174    1\n",
       "1175    1\n",
       "1176    0\n",
       "1177    0\n",
       "1178    1\n",
       "1179    1\n",
       "1180    1\n",
       "1181    1\n",
       "1182    1\n",
       "1183    0\n",
       "1184    0\n",
       "1185    1\n",
       "1186    1\n",
       "1187    1\n",
       "1188    1\n",
       "1189    1\n",
       "1190    1\n",
       "1191    1\n",
       "1192    1\n",
       "1193    1\n",
       "1194    0\n",
       "1195    1\n",
       "1196    1\n",
       "1197    1\n",
       "1198    1\n",
       "1199    1\n",
       "dtype: int64"
      ]
     },
     "execution_count": 39,
     "metadata": {},
     "output_type": "execute_result"
    }
   ],
   "source": [
    "resultSe"
   ]
  },
  {
   "cell_type": "code",
   "execution_count": 37,
   "metadata": {
    "collapsed": true
   },
   "outputs": [],
   "source": [
    "from sklearn.metrics import accuracy_score"
   ]
  },
  {
   "cell_type": "code",
   "execution_count": 43,
   "metadata": {
    "collapsed": false
   },
   "outputs": [
    {
     "name": "stdout",
     "output_type": "stream",
     "text": [
      "0.900833333333\n",
      "             precision    recall  f1-score   support\n",
      "\n",
      "         故障       0.75      0.61      0.67       200\n",
      "         正常       0.93      0.96      0.94      1000\n",
      "\n",
      "avg / total       0.90      0.90      0.90      1200\n",
      "\n"
     ]
    }
   ],
   "source": [
    "print(accuracy_score(test_Y,result_list))\n",
    "print(classification_report(test_Y,result_list,target_names=['故障','正常']))"
   ]
  },
  {
   "cell_type": "code",
   "execution_count": 29,
   "metadata": {
    "collapsed": true
   },
   "outputs": [
    {
     "data": {
      "text/plain": [
       "[[1],\n",
       " [1],\n",
       " [1],\n",
       " [1],\n",
       " [1],\n",
       " [1],\n",
       " [1],\n",
       " [1],\n",
       " [1],\n",
       " [1],\n",
       " [1],\n",
       " [1],\n",
       " [0],\n",
       " [0],\n",
       " [1],\n",
       " [1],\n",
       " [1],\n",
       " [0],\n",
       " [1],\n",
       " [1],\n",
       " [1],\n",
       " [1],\n",
       " [1],\n",
       " [1],\n",
       " [1],\n",
       " [1],\n",
       " [1],\n",
       " [1],\n",
       " [1],\n",
       " [1],\n",
       " [1],\n",
       " [1],\n",
       " [1],\n",
       " [1],\n",
       " [0],\n",
       " [1],\n",
       " [1],\n",
       " [1],\n",
       " [0],\n",
       " [1],\n",
       " [1],\n",
       " [1],\n",
       " [1],\n",
       " [0],\n",
       " [1],\n",
       " [1],\n",
       " [1],\n",
       " [1],\n",
       " [1],\n",
       " [1],\n",
       " [1],\n",
       " [1],\n",
       " [1],\n",
       " [1],\n",
       " [1],\n",
       " [0],\n",
       " [1],\n",
       " [1],\n",
       " [1],\n",
       " [1],\n",
       " [1],\n",
       " [1],\n",
       " [1],\n",
       " [1],\n",
       " [1],\n",
       " [0],\n",
       " [1],\n",
       " [1],\n",
       " [1],\n",
       " [1],\n",
       " [1],\n",
       " [1],\n",
       " [1],\n",
       " [1],\n",
       " [1],\n",
       " [1],\n",
       " [1],\n",
       " [1],\n",
       " [1],\n",
       " [1],\n",
       " [0],\n",
       " [0],\n",
       " [1],\n",
       " [1],\n",
       " [1],\n",
       " [1],\n",
       " [1],\n",
       " [1],\n",
       " [1],\n",
       " [1],\n",
       " [1],\n",
       " [0],\n",
       " [1],\n",
       " [0],\n",
       " [0],\n",
       " [1],\n",
       " [1],\n",
       " [1],\n",
       " [1],\n",
       " [1],\n",
       " [1],\n",
       " [1],\n",
       " [1],\n",
       " [1],\n",
       " [1],\n",
       " [1],\n",
       " [1],\n",
       " [1],\n",
       " [0],\n",
       " [1],\n",
       " [1],\n",
       " [1],\n",
       " [1],\n",
       " [1],\n",
       " [1],\n",
       " [1],\n",
       " [1],\n",
       " [1],\n",
       " [1],\n",
       " [0],\n",
       " [1],\n",
       " [0],\n",
       " [1],\n",
       " [0],\n",
       " [0],\n",
       " [1],\n",
       " [1],\n",
       " [1],\n",
       " [1],\n",
       " [1],\n",
       " [1],\n",
       " [1],\n",
       " [1],\n",
       " [0],\n",
       " [1],\n",
       " [1],\n",
       " [1],\n",
       " [0],\n",
       " [1],\n",
       " [0],\n",
       " [1],\n",
       " [1],\n",
       " [1],\n",
       " [1],\n",
       " [0],\n",
       " [1],\n",
       " [1],\n",
       " [1],\n",
       " [1],\n",
       " [1],\n",
       " [1],\n",
       " [1],\n",
       " [1],\n",
       " [1],\n",
       " [1],\n",
       " [1],\n",
       " [1],\n",
       " [1],\n",
       " [1],\n",
       " [0],\n",
       " [1],\n",
       " [1],\n",
       " [1],\n",
       " [0],\n",
       " [1],\n",
       " [1],\n",
       " [1],\n",
       " [0],\n",
       " [1],\n",
       " [0],\n",
       " [0],\n",
       " [1],\n",
       " [1],\n",
       " [0],\n",
       " [0],\n",
       " [1],\n",
       " [1],\n",
       " [1],\n",
       " [1],\n",
       " [1],\n",
       " [1],\n",
       " [1],\n",
       " [1],\n",
       " [1],\n",
       " [1],\n",
       " [1],\n",
       " [0],\n",
       " [1],\n",
       " [1],\n",
       " [1],\n",
       " [1],\n",
       " [1],\n",
       " [1],\n",
       " [1],\n",
       " [1],\n",
       " [1],\n",
       " [1],\n",
       " [1],\n",
       " [1],\n",
       " [0],\n",
       " [1],\n",
       " [1],\n",
       " [0],\n",
       " [1],\n",
       " [1],\n",
       " [1],\n",
       " [1],\n",
       " [1],\n",
       " [1],\n",
       " [1],\n",
       " [1],\n",
       " [1],\n",
       " [1],\n",
       " [1],\n",
       " [1],\n",
       " [1],\n",
       " [1],\n",
       " [1],\n",
       " [1],\n",
       " [1],\n",
       " [1],\n",
       " [1],\n",
       " [1],\n",
       " [1],\n",
       " [0],\n",
       " [1],\n",
       " [0],\n",
       " [1],\n",
       " [1],\n",
       " [1],\n",
       " [0],\n",
       " [1],\n",
       " [1],\n",
       " [0],\n",
       " [1],\n",
       " [1],\n",
       " [1],\n",
       " [1],\n",
       " [1],\n",
       " [1],\n",
       " [1],\n",
       " [1],\n",
       " [1],\n",
       " [0],\n",
       " [1],\n",
       " [1],\n",
       " [1],\n",
       " [1],\n",
       " [1],\n",
       " [0],\n",
       " [1],\n",
       " [0],\n",
       " [1],\n",
       " [1],\n",
       " [0],\n",
       " [1],\n",
       " [1],\n",
       " [1],\n",
       " [1],\n",
       " [1],\n",
       " [1],\n",
       " [1],\n",
       " [0],\n",
       " [1],\n",
       " [1],\n",
       " [1],\n",
       " [1],\n",
       " [1],\n",
       " [1],\n",
       " [1],\n",
       " [1],\n",
       " [1],\n",
       " [1],\n",
       " [0],\n",
       " [1],\n",
       " [0],\n",
       " [1],\n",
       " [1],\n",
       " [1],\n",
       " [1],\n",
       " [1],\n",
       " [1],\n",
       " [0],\n",
       " [0],\n",
       " [1],\n",
       " [1],\n",
       " [1],\n",
       " [1],\n",
       " [1],\n",
       " [1],\n",
       " [1],\n",
       " [1],\n",
       " [1],\n",
       " [0],\n",
       " [1],\n",
       " [1],\n",
       " [1],\n",
       " [0],\n",
       " [1],\n",
       " [1],\n",
       " [1],\n",
       " [1],\n",
       " [1],\n",
       " [1],\n",
       " [1],\n",
       " [1],\n",
       " [0],\n",
       " [1],\n",
       " [1],\n",
       " [1],\n",
       " [1],\n",
       " [1],\n",
       " [1],\n",
       " [0],\n",
       " [1],\n",
       " [1],\n",
       " [1],\n",
       " [1],\n",
       " [1],\n",
       " [0],\n",
       " [1],\n",
       " [0],\n",
       " [1],\n",
       " [1],\n",
       " [1],\n",
       " [0],\n",
       " [1],\n",
       " [1],\n",
       " [1],\n",
       " [0],\n",
       " [1],\n",
       " [0],\n",
       " [1],\n",
       " [1],\n",
       " [1],\n",
       " [1],\n",
       " [1],\n",
       " [1],\n",
       " [1],\n",
       " [1],\n",
       " [1],\n",
       " [1],\n",
       " [1],\n",
       " [1],\n",
       " [1],\n",
       " [1],\n",
       " [1],\n",
       " [1],\n",
       " [0],\n",
       " [1],\n",
       " [1],\n",
       " [1],\n",
       " [1],\n",
       " [1],\n",
       " [1],\n",
       " [1],\n",
       " [1],\n",
       " [0],\n",
       " [1],\n",
       " [1],\n",
       " [1],\n",
       " [1],\n",
       " [1],\n",
       " [1],\n",
       " [0],\n",
       " [1],\n",
       " [0],\n",
       " [1],\n",
       " [1],\n",
       " [0],\n",
       " [1],\n",
       " [1],\n",
       " [1],\n",
       " [0],\n",
       " [1],\n",
       " [1],\n",
       " [0],\n",
       " [1],\n",
       " [1],\n",
       " [1],\n",
       " [1],\n",
       " [1],\n",
       " [1],\n",
       " [1],\n",
       " [1],\n",
       " [1],\n",
       " [1],\n",
       " [1],\n",
       " [1],\n",
       " [1],\n",
       " [1],\n",
       " [1],\n",
       " [1],\n",
       " [1],\n",
       " [1],\n",
       " [1],\n",
       " [1],\n",
       " [1],\n",
       " [1],\n",
       " [1],\n",
       " [1],\n",
       " [1],\n",
       " [1],\n",
       " [1],\n",
       " [1],\n",
       " [0],\n",
       " [1],\n",
       " [0],\n",
       " [1],\n",
       " [1],\n",
       " [1],\n",
       " [1],\n",
       " [0],\n",
       " [1],\n",
       " [1],\n",
       " [1],\n",
       " [0],\n",
       " [1],\n",
       " [1],\n",
       " [1],\n",
       " [1],\n",
       " [1],\n",
       " [1],\n",
       " [1],\n",
       " [0],\n",
       " [1],\n",
       " [1],\n",
       " [0],\n",
       " [1],\n",
       " [1],\n",
       " [0],\n",
       " [1],\n",
       " [1],\n",
       " [1],\n",
       " [1],\n",
       " [1],\n",
       " [1],\n",
       " [0],\n",
       " [1],\n",
       " [1],\n",
       " [1],\n",
       " [1],\n",
       " [1],\n",
       " [1],\n",
       " [1],\n",
       " [1],\n",
       " [1],\n",
       " [1],\n",
       " [1],\n",
       " [1],\n",
       " [1],\n",
       " [1],\n",
       " [0],\n",
       " [1],\n",
       " [1],\n",
       " [1],\n",
       " [0],\n",
       " [1],\n",
       " [1],\n",
       " [1],\n",
       " [0],\n",
       " [0],\n",
       " [1],\n",
       " [1],\n",
       " [1],\n",
       " [1],\n",
       " [1],\n",
       " [0],\n",
       " [1],\n",
       " [1],\n",
       " [1],\n",
       " [1],\n",
       " [1],\n",
       " [1],\n",
       " [1],\n",
       " [1],\n",
       " [1],\n",
       " [0],\n",
       " [0],\n",
       " [1],\n",
       " [1],\n",
       " [1],\n",
       " [1],\n",
       " [1],\n",
       " [0],\n",
       " [1],\n",
       " [1],\n",
       " [1],\n",
       " [1],\n",
       " [1],\n",
       " [1],\n",
       " [0],\n",
       " [1],\n",
       " [1],\n",
       " [1],\n",
       " [1],\n",
       " [0],\n",
       " [1],\n",
       " [1],\n",
       " [1],\n",
       " [1],\n",
       " [1],\n",
       " [1],\n",
       " [1],\n",
       " [1],\n",
       " [1],\n",
       " [1],\n",
       " [1],\n",
       " [1],\n",
       " [0],\n",
       " [1],\n",
       " [1],\n",
       " [1],\n",
       " [1],\n",
       " [1],\n",
       " [1],\n",
       " [1],\n",
       " [1],\n",
       " [1],\n",
       " [1],\n",
       " [1],\n",
       " [1],\n",
       " [1],\n",
       " [1],\n",
       " [1],\n",
       " [1],\n",
       " [1],\n",
       " [1],\n",
       " [1],\n",
       " [1],\n",
       " [1],\n",
       " [1],\n",
       " [1],\n",
       " [1],\n",
       " [1],\n",
       " [0],\n",
       " [1],\n",
       " [1],\n",
       " [1],\n",
       " [1],\n",
       " [0],\n",
       " [1],\n",
       " [1],\n",
       " [1],\n",
       " [1],\n",
       " [1],\n",
       " [1],\n",
       " [1],\n",
       " [1],\n",
       " [1],\n",
       " [0],\n",
       " [1],\n",
       " [1],\n",
       " [1],\n",
       " [1],\n",
       " [1],\n",
       " [1],\n",
       " [1],\n",
       " [1],\n",
       " [1],\n",
       " [0],\n",
       " [1],\n",
       " [1],\n",
       " [1],\n",
       " [1],\n",
       " [1],\n",
       " [1],\n",
       " [1],\n",
       " [1],\n",
       " [1],\n",
       " [1],\n",
       " [1],\n",
       " [1],\n",
       " [1],\n",
       " [1],\n",
       " [1],\n",
       " [1],\n",
       " [1],\n",
       " [1],\n",
       " [1],\n",
       " [1],\n",
       " [1],\n",
       " [1],\n",
       " [1],\n",
       " [1],\n",
       " [1],\n",
       " [0],\n",
       " [1],\n",
       " [0],\n",
       " [0],\n",
       " [1],\n",
       " [1],\n",
       " [1],\n",
       " [0],\n",
       " [1],\n",
       " [1],\n",
       " [0],\n",
       " [1],\n",
       " [1],\n",
       " [0],\n",
       " [0],\n",
       " [1],\n",
       " [1],\n",
       " [1],\n",
       " [1],\n",
       " [1],\n",
       " [1],\n",
       " [0],\n",
       " [1],\n",
       " [1],\n",
       " [1],\n",
       " [1],\n",
       " [1],\n",
       " [1],\n",
       " [1],\n",
       " [0],\n",
       " [1],\n",
       " [1],\n",
       " [1],\n",
       " [1],\n",
       " [1],\n",
       " [1],\n",
       " [1],\n",
       " [1],\n",
       " [1],\n",
       " [1],\n",
       " [1],\n",
       " [1],\n",
       " [1],\n",
       " [1],\n",
       " [1],\n",
       " [1],\n",
       " [1],\n",
       " [1],\n",
       " [0],\n",
       " [0],\n",
       " [1],\n",
       " [1],\n",
       " [1],\n",
       " [1],\n",
       " [0],\n",
       " [1],\n",
       " [1],\n",
       " [1],\n",
       " [1],\n",
       " [1],\n",
       " [1],\n",
       " [1],\n",
       " [1],\n",
       " [1],\n",
       " [0],\n",
       " [1],\n",
       " [1],\n",
       " [1],\n",
       " [1],\n",
       " [1],\n",
       " [0],\n",
       " [1],\n",
       " [1],\n",
       " [1],\n",
       " [1],\n",
       " [1],\n",
       " [1],\n",
       " [1],\n",
       " [1],\n",
       " [1],\n",
       " [1],\n",
       " [1],\n",
       " [1],\n",
       " [0],\n",
       " [1],\n",
       " [1],\n",
       " [0],\n",
       " [1],\n",
       " [1],\n",
       " [1],\n",
       " [1],\n",
       " [0],\n",
       " [1],\n",
       " [1],\n",
       " [0],\n",
       " [1],\n",
       " [1],\n",
       " [1],\n",
       " [1],\n",
       " [1],\n",
       " [1],\n",
       " [0],\n",
       " [0],\n",
       " [0],\n",
       " [1],\n",
       " [1],\n",
       " [1],\n",
       " [1],\n",
       " [1],\n",
       " [1],\n",
       " [1],\n",
       " [1],\n",
       " [1],\n",
       " [1],\n",
       " [1],\n",
       " [1],\n",
       " [1],\n",
       " [1],\n",
       " [0],\n",
       " [1],\n",
       " [1],\n",
       " [0],\n",
       " [1],\n",
       " [1],\n",
       " [1],\n",
       " [1],\n",
       " [1],\n",
       " [1],\n",
       " [0],\n",
       " [1],\n",
       " [1],\n",
       " [1],\n",
       " [1],\n",
       " [1],\n",
       " [1],\n",
       " [1],\n",
       " [1],\n",
       " [1],\n",
       " [1],\n",
       " [1],\n",
       " [1],\n",
       " [1],\n",
       " [1],\n",
       " [1],\n",
       " [1],\n",
       " [1],\n",
       " [0],\n",
       " [1],\n",
       " [1],\n",
       " [1],\n",
       " [1],\n",
       " [1],\n",
       " [1],\n",
       " [1],\n",
       " [0],\n",
       " [1],\n",
       " [1],\n",
       " [1],\n",
       " [1],\n",
       " [1],\n",
       " [1],\n",
       " [0],\n",
       " [1],\n",
       " [0],\n",
       " [0],\n",
       " [1],\n",
       " [1],\n",
       " [1],\n",
       " [1],\n",
       " [1],\n",
       " [1],\n",
       " [1],\n",
       " [1],\n",
       " [1],\n",
       " [0],\n",
       " [1],\n",
       " [1],\n",
       " [1],\n",
       " [1],\n",
       " [1],\n",
       " [1],\n",
       " [1],\n",
       " [0],\n",
       " [1],\n",
       " [1],\n",
       " [1],\n",
       " [1],\n",
       " [1],\n",
       " [1],\n",
       " [0],\n",
       " [1],\n",
       " [1],\n",
       " [1],\n",
       " [1],\n",
       " [1],\n",
       " [1],\n",
       " [1],\n",
       " [1],\n",
       " [1],\n",
       " [0],\n",
       " [1],\n",
       " [1],\n",
       " [1],\n",
       " [1],\n",
       " [1],\n",
       " [1],\n",
       " [1],\n",
       " [1],\n",
       " [1],\n",
       " [1],\n",
       " [1],\n",
       " [1],\n",
       " [1],\n",
       " [1],\n",
       " [0],\n",
       " [1],\n",
       " [1],\n",
       " [1],\n",
       " [1],\n",
       " [1],\n",
       " [0],\n",
       " [1],\n",
       " [1],\n",
       " [1],\n",
       " [1],\n",
       " [1],\n",
       " [1],\n",
       " [1],\n",
       " [1],\n",
       " [1],\n",
       " [0],\n",
       " [1],\n",
       " [1],\n",
       " [1],\n",
       " [1],\n",
       " [1],\n",
       " [1],\n",
       " [1],\n",
       " [1],\n",
       " [1],\n",
       " [1],\n",
       " [1],\n",
       " [1],\n",
       " [1],\n",
       " [1],\n",
       " [1],\n",
       " [1],\n",
       " [1],\n",
       " [1],\n",
       " [0],\n",
       " [1],\n",
       " [1],\n",
       " [1],\n",
       " [1],\n",
       " [1],\n",
       " [0],\n",
       " [1],\n",
       " [0],\n",
       " [1],\n",
       " [1],\n",
       " [1],\n",
       " [1],\n",
       " [1],\n",
       " [1],\n",
       " [1],\n",
       " [1],\n",
       " [1],\n",
       " [1],\n",
       " [1],\n",
       " [1],\n",
       " [1],\n",
       " [1],\n",
       " [1],\n",
       " [0],\n",
       " [0],\n",
       " [1],\n",
       " [1],\n",
       " [0],\n",
       " [1],\n",
       " [1],\n",
       " [1],\n",
       " [1],\n",
       " [1],\n",
       " [1],\n",
       " [1],\n",
       " [0],\n",
       " [1],\n",
       " [1],\n",
       " [1],\n",
       " [1],\n",
       " [1],\n",
       " [0],\n",
       " [1],\n",
       " [1],\n",
       " [1],\n",
       " [1],\n",
       " [1],\n",
       " [1],\n",
       " [1],\n",
       " [1],\n",
       " [1],\n",
       " [0],\n",
       " [0],\n",
       " [1],\n",
       " [1],\n",
       " [1],\n",
       " [1],\n",
       " [1],\n",
       " [1],\n",
       " [1],\n",
       " [1],\n",
       " [1],\n",
       " [1],\n",
       " [1],\n",
       " [1],\n",
       " [1],\n",
       " [1],\n",
       " [1],\n",
       " [1],\n",
       " [1],\n",
       " [1],\n",
       " [1],\n",
       " [1],\n",
       " [1],\n",
       " [1],\n",
       " [1],\n",
       " [1],\n",
       " [1],\n",
       " [1],\n",
       " [1],\n",
       " [1],\n",
       " [1],\n",
       " [1],\n",
       " [1],\n",
       " [0],\n",
       " [1],\n",
       " [0],\n",
       " [1],\n",
       " [1],\n",
       " [1],\n",
       " [1],\n",
       " [1],\n",
       " [0],\n",
       " [1],\n",
       " [1],\n",
       " [1],\n",
       " [1],\n",
       " [1],\n",
       " [1],\n",
       " [0],\n",
       " [1],\n",
       " [1],\n",
       " [1],\n",
       " [1],\n",
       " [1],\n",
       " [1],\n",
       " [1],\n",
       " [1],\n",
       " [1],\n",
       " [1],\n",
       " [0],\n",
       " [1],\n",
       " [0],\n",
       " [1],\n",
       " [1],\n",
       " [1],\n",
       " [1],\n",
       " [0],\n",
       " [1],\n",
       " [1],\n",
       " [1],\n",
       " [0],\n",
       " [1],\n",
       " [1],\n",
       " [1],\n",
       " [0],\n",
       " [0],\n",
       " [0],\n",
       " [1],\n",
       " [1],\n",
       " [1],\n",
       " [1],\n",
       " [1],\n",
       " [1],\n",
       " [1],\n",
       " [0],\n",
       " [1],\n",
       " [1],\n",
       " [0],\n",
       " [1],\n",
       " [1],\n",
       " [1],\n",
       " [0],\n",
       " [1],\n",
       " [1],\n",
       " [1],\n",
       " [1],\n",
       " [1],\n",
       " [1],\n",
       " [1],\n",
       " [1],\n",
       " [0],\n",
       " [1],\n",
       " [1],\n",
       " [1],\n",
       " [1],\n",
       " [1],\n",
       " [1],\n",
       " [1],\n",
       " [1],\n",
       " [1],\n",
       " [0],\n",
       " [0],\n",
       " [1],\n",
       " ...]"
      ]
     },
     "execution_count": 29,
     "metadata": {},
     "output_type": "execute_result"
    }
   ],
   "source": [
    "result_list"
   ]
  },
  {
   "cell_type": "code",
   "execution_count": 44,
   "metadata": {
    "collapsed": true
   },
   "outputs": [],
   "source": [
    "import tensorflow as tf\n",
    "import numpy as np"
   ]
  },
  {
   "cell_type": "code",
   "execution_count": 45,
   "metadata": {
    "collapsed": true
   },
   "outputs": [],
   "source": [
    "#注意添加偏置 如果没有偏置的化会导致 误差无法缩小\n",
    "def add_layer(inputs,in_size,out_size,activation_function=None):\n",
    "    Weights = tf.Variable(tf.random_normal([in_size,out_size]))\n",
    "    biases = tf.Variable(tf.zeros([1,out_size])+0.1)\n",
    "    Wx_plus_b = tf.matmul(inputs,Weights)+biases\n",
    "    if activation_function is None:\n",
    "        outputs = Wx_plus_b\n",
    "    else:\n",
    "        outputs = activation_function(Wx_plus_b)\n",
    "    return outputs"
   ]
  },
  {
   "cell_type": "code",
   "execution_count": 46,
   "metadata": {
    "collapsed": true
   },
   "outputs": [],
   "source": [
    "datas = np.array(train_X).astype(np.float32)\n",
    "labels = np.array(train_label_list).astype(np.float32)"
   ]
  },
  {
   "cell_type": "code",
   "execution_count": 47,
   "metadata": {
    "collapsed": true
   },
   "outputs": [],
   "source": [
    "testdatas = np.array(test_X).astype(np.float32)\n",
    "testlabels = np.array(test_label_list).astype(np.float32)"
   ]
  },
  {
   "cell_type": "code",
   "execution_count": 83,
   "metadata": {
    "collapsed": false
   },
   "outputs": [
    {
     "data": {
      "text/plain": [
       "array([[ 1.],\n",
       "       [ 1.],\n",
       "       [ 1.],\n",
       "       ..., \n",
       "       [ 0.],\n",
       "       [ 1.],\n",
       "       [ 1.]], dtype=float32)"
      ]
     },
     "execution_count": 83,
     "metadata": {},
     "output_type": "execute_result"
    }
   ],
   "source": [
    "testlabels"
   ]
  },
  {
   "cell_type": "code",
   "execution_count": 91,
   "metadata": {
    "collapsed": false
   },
   "outputs": [
    {
     "data": {
      "text/plain": [
       "(6001, 5)"
      ]
     },
     "execution_count": 91,
     "metadata": {},
     "output_type": "execute_result"
    }
   ],
   "source": [
    "datas.shape"
   ]
  },
  {
   "cell_type": "code",
   "execution_count": 92,
   "metadata": {
    "collapsed": false
   },
   "outputs": [
    {
     "data": {
      "text/plain": [
       "(6001, 1)"
      ]
     },
     "execution_count": 92,
     "metadata": {},
     "output_type": "execute_result"
    }
   ],
   "source": [
    "labels.shape"
   ]
  },
  {
   "cell_type": "code",
   "execution_count": 48,
   "metadata": {
    "collapsed": false
   },
   "outputs": [
    {
     "name": "stdout",
     "output_type": "stream",
     "text": [
      "WARNING:tensorflow:From <ipython-input-48-c43d88c6f8aa>:9 in <module>.: initialize_all_variables (from tensorflow.python.ops.variables) is deprecated and will be removed after 2017-03-02.\n",
      "Instructions for updating:\n",
      "Use `tf.global_variables_initializer` instead.\n"
     ]
    }
   ],
   "source": [
    "xs2 = tf.placeholder(tf.float32,[None,5])\n",
    "ys2 = tf.placeholder(tf.float32,[None,1])\n",
    "\n",
    "layer1 = add_layer(xs2,5,7,activation_function=tf.nn.sigmoid)\n",
    "output = add_layer(layer1,7,1,activation_function=tf.nn.sigmoid)\n",
    "\n",
    "loss = tf.reduce_mean(tf.reduce_sum(tf.square(ys2-output),reduction_indices=[1]))\n",
    "train_step2 = tf.train.GradientDescentOptimizer(0.1).minimize(loss)\n",
    "init = tf.initialize_all_variables()"
   ]
  },
  {
   "cell_type": "code",
   "execution_count": 49,
   "metadata": {
    "collapsed": true
   },
   "outputs": [],
   "source": [
    "sess13 = tf.Session()\n",
    "sess13.run(init)"
   ]
  },
  {
   "cell_type": "code",
   "execution_count": 50,
   "metadata": {
    "collapsed": true
   },
   "outputs": [],
   "source": [
    "import time"
   ]
  },
  {
   "cell_type": "code",
   "execution_count": 51,
   "metadata": {
    "collapsed": false
   },
   "outputs": [
    {
     "name": "stdout",
     "output_type": "stream",
     "text": [
      "当前迭代0次均方误差 0.149379 当前用时 0.2671780586242676\n",
      "当前迭代2000次均方误差 0.134335 当前用时 5.193959474563599\n",
      "当前迭代4000次均方误差 0.134275 当前用时 9.726978540420532\n",
      "当前迭代6000次均方误差 0.134243 当前用时 14.267002582550049\n",
      "当前迭代8000次均方误差 0.134211 当前用时 18.896089553833008\n",
      "当前迭代10000次均方误差 0.134187 当前用时 23.07437252998352\n",
      "当前迭代12000次均方误差 0.134164 当前用时 27.62941551208496\n",
      "当前迭代14000次均方误差 0.134145 当前用时 32.3890860080719\n",
      "当前迭代16000次均方误差 0.134124 当前用时 37.34388589859009\n",
      "当前迭代18000次均方误差 0.134109 当前用时 42.06002688407898\n",
      "当前迭代20000次均方误差 0.134094 当前用时 46.790685415267944\n"
     ]
    }
   ],
   "source": [
    "startTime = time.time()\n",
    "for i in range(20001):\n",
    "    sess13.run(train_step2,feed_dict={xs2:datas,ys2:labels})\n",
    "    if i%2000 == 0:\n",
    "        print('当前迭代'+str(i)+'次均方误差',sess13.run(loss,feed_dict={xs2:datas,ys2:labels}),end=' ')\n",
    "        print('当前用时',time.time()-startTime)"
   ]
  },
  {
   "cell_type": "code",
   "execution_count": 52,
   "metadata": {
    "collapsed": false
   },
   "outputs": [],
   "source": [
    "tfResult = sess13.run(output,feed_dict={xs2:testdatas})"
   ]
  },
  {
   "cell_type": "code",
   "execution_count": 53,
   "metadata": {
    "collapsed": false,
    "scrolled": false
   },
   "outputs": [],
   "source": [
    "tflistresult = []\n",
    "for item in tfResult:\n",
    "    if item[0] > 0.5:\n",
    "       tflistresult.append([1])\n",
    "    else:\n",
    "       tflistresult.append([0])"
   ]
  },
  {
   "cell_type": "code",
   "execution_count": 54,
   "metadata": {
    "collapsed": false
   },
   "outputs": [],
   "source": [
    "testarray = np.array(tflistresult)"
   ]
  },
  {
   "cell_type": "code",
   "execution_count": 121,
   "metadata": {
    "collapsed": false
   },
   "outputs": [
    {
     "data": {
      "text/plain": [
       "(1200, 1)"
      ]
     },
     "execution_count": 121,
     "metadata": {},
     "output_type": "execute_result"
    }
   ],
   "source": [
    "testarray.shape"
   ]
  },
  {
   "cell_type": "code",
   "execution_count": 122,
   "metadata": {
    "collapsed": false
   },
   "outputs": [
    {
     "data": {
      "text/plain": [
       "(1200,)"
      ]
     },
     "execution_count": 122,
     "metadata": {},
     "output_type": "execute_result"
    }
   ],
   "source": [
    "test_Y.shape"
   ]
  },
  {
   "cell_type": "code",
   "execution_count": 55,
   "metadata": {
    "collapsed": false
   },
   "outputs": [
    {
     "name": "stdout",
     "output_type": "stream",
     "text": [
      "0.8475\n",
      "             precision    recall  f1-score   support\n",
      "\n",
      "         故障       1.00      0.09      0.16       200\n",
      "         正常       0.85      1.00      0.92      1000\n",
      "\n",
      "avg / total       0.87      0.85      0.79      1200\n",
      "\n"
     ]
    }
   ],
   "source": [
    "print(accuracy_score(test_Y,testarray))\n",
    "print(classification_report(test_Y,testarray,target_names=['故障','正常']))"
   ]
  },
  {
   "cell_type": "code",
   "execution_count": 124,
   "metadata": {
    "collapsed": false
   },
   "outputs": [
    {
     "name": "stdout",
     "output_type": "stream",
     "text": [
      "0.8041666666666667\n"
     ]
    }
   ],
   "source": [
    "scalenum=0\n",
    "total =0 \n",
    "for i in range(len(tflistresult)):\n",
    "    if tflistresult[i]==test_Y[i]:\n",
    "        scalenum+=1\n",
    "    total +=1\n",
    "print(scalenum/total)"
   ]
  },
  {
   "cell_type": "markdown",
   "metadata": {
    "collapsed": true
   },
   "source": [
    "Keras分类模型"
   ]
  },
  {
   "cell_type": "code",
   "execution_count": 305,
   "metadata": {
    "collapsed": false
   },
   "outputs": [],
   "source": [
    "np.random.seed(8904)\n",
    "from keras.models import Sequential\n",
    "from keras.layers import Dense, Activation\n",
    "from keras.optimizers import SGD\n",
    "from keras import regularizers"
   ]
  },
  {
   "cell_type": "code",
   "execution_count": 306,
   "metadata": {
    "collapsed": false
   },
   "outputs": [],
   "source": [
    "model = Sequential([\n",
    "    Dense(3, input_dim=5),\n",
    "    Activation('sigmoid'),  \n",
    "    Dense(1),\n",
    "    Activation('sigmoid'),\n",
    "])"
   ]
  },
  {
   "cell_type": "code",
   "execution_count": 307,
   "metadata": {
    "collapsed": true
   },
   "outputs": [],
   "source": [
    "sgd = SGD(lr=0.01, momentum=0.0, decay=0.0, nesterov=False)"
   ]
  },
  {
   "cell_type": "code",
   "execution_count": 308,
   "metadata": {
    "collapsed": true
   },
   "outputs": [],
   "source": [
    "model.compile(optimizer=sgd,\n",
    "              loss='mse',\n",
    "              metrics=['accuracy'])"
   ]
  },
  {
   "cell_type": "code",
   "execution_count": 309,
   "metadata": {
    "collapsed": false
   },
   "outputs": [
    {
     "data": {
      "text/plain": [
       "array([[ 1.],\n",
       "       [ 0.],\n",
       "       [ 1.],\n",
       "       ..., \n",
       "       [ 1.],\n",
       "       [ 1.],\n",
       "       [ 1.]], dtype=float32)"
      ]
     },
     "execution_count": 309,
     "metadata": {},
     "output_type": "execute_result"
    }
   ],
   "source": [
    "labels"
   ]
  },
  {
   "cell_type": "code",
   "execution_count": 310,
   "metadata": {
    "collapsed": false
   },
   "outputs": [
    {
     "name": "stdout",
     "output_type": "stream",
     "text": [
      "Epoch 1/2\n",
      "6001/6001 [==============================] - 0s - loss: 0.1515 - acc: 0.8335     \n",
      "Epoch 2/2\n",
      "6001/6001 [==============================] - 0s - loss: 0.1458 - acc: 0.8335     \n"
     ]
    },
    {
     "data": {
      "text/plain": [
       "<keras.callbacks.History at 0x21a35aaca58>"
      ]
     },
     "execution_count": 310,
     "metadata": {},
     "output_type": "execute_result"
    }
   ],
   "source": [
    "model.fit(datas, labels, nb_epoch=2, batch_size=32)"
   ]
  },
  {
   "cell_type": "code",
   "execution_count": 311,
   "metadata": {
    "collapsed": false
   },
   "outputs": [
    {
     "name": "stdout",
     "output_type": "stream",
     "text": [
      "  32/1200 [..............................] - ETA: 8stest loss:  0.142793053985\n",
      "test accuracy:  0.834166666667\n"
     ]
    }
   ],
   "source": [
    "loss, accuracy = model.evaluate(testdatas, testlabels)\n",
    "\n",
    "print('test loss: ', loss)\n",
    "print('test accuracy: ', accuracy)"
   ]
  },
  {
   "cell_type": "code",
   "execution_count": 312,
   "metadata": {
    "collapsed": true
   },
   "outputs": [],
   "source": [
    "kerasResult = model.predict(testdatas)"
   ]
  },
  {
   "cell_type": "code",
   "execution_count": 313,
   "metadata": {
    "collapsed": false
   },
   "outputs": [],
   "source": [
    "keraslistresult = []\n",
    "for item in kerasResult:\n",
    "    if item[0] > 0.5:\n",
    "       keraslistresult.append(1)\n",
    "    else:\n",
    "       keraslistresult.append(0)\n",
    "kerasResultSe = pd.Series(keraslistresult)"
   ]
  },
  {
   "cell_type": "code",
   "execution_count": 314,
   "metadata": {
    "collapsed": false
   },
   "outputs": [
    {
     "name": "stdout",
     "output_type": "stream",
     "text": [
      "             precision    recall  f1-score   support\n",
      "\n",
      "          0       0.01      1.00      0.01         1\n",
      "          1       1.00      0.83      0.91      1199\n",
      "\n",
      "avg / total       1.00      0.83      0.91      1200\n",
      "\n"
     ]
    }
   ],
   "source": [
    "print(classification_report(kerasResultSe,testlabels))"
   ]
  },
  {
   "cell_type": "code",
   "execution_count": null,
   "metadata": {
    "collapsed": true
   },
   "outputs": [],
   "source": []
  }
 ],
 "metadata": {
  "anaconda-cloud": {},
  "kernelspec": {
   "display_name": "Python [conda root]",
   "language": "python",
   "name": "conda-root-py"
  },
  "language_info": {
   "codemirror_mode": {
    "name": "ipython",
    "version": 3
   },
   "file_extension": ".py",
   "mimetype": "text/x-python",
   "name": "python",
   "nbconvert_exporter": "python",
   "pygments_lexer": "ipython3",
   "version": "3.5.2"
  }
 },
 "nbformat": 4,
 "nbformat_minor": 1
}
